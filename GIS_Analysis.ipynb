{
 "cells": [
  {
   "cell_type": "markdown",
   "metadata": {},
   "source": [
    "# Working with Geospatial Data in Python\n",
    "\n",
    "**Data Sources**\n",
    "\n",
    "- [National Oceanic and Atmospheric Administration's Wrecks and Obstructions Database](https://nauticalcharts.noaa.gov/data/wrecks-and-obstructions.html): collection of known wrecks and obstructions in US coastal waters courtesy of the Coast Survey's Automated Wreck and Obstruction Information System (AWOIS) and the Electronic Navigational Chart (ENC) data\n"
   ]
  },
  {
   "cell_type": "markdown",
   "metadata": {},
   "source": [
    "## Import Python Packages and Data"
   ]
  },
  {
   "cell_type": "code",
   "execution_count": 1,
   "metadata": {},
   "outputs": [],
   "source": [
    "# Package imports\n",
    "import numpy as np\n",
    "import pandas as pd\n",
    "import geopandas as gpd\n",
    "import shapely\n",
    "\n",
    "import matplotlib.pyplot as plt\n",
    "# import contextily as ctx\n",
    "import folium\n",
    "\n",
    "%matplotlib inline"
   ]
  },
  {
   "cell_type": "code",
   "execution_count": 2,
   "metadata": {},
   "outputs": [
    {
     "data": {
      "text/html": [
       "<div>\n",
       "<style scoped>\n",
       "    .dataframe tbody tr th:only-of-type {\n",
       "        vertical-align: middle;\n",
       "    }\n",
       "\n",
       "    .dataframe tbody tr th {\n",
       "        vertical-align: top;\n",
       "    }\n",
       "\n",
       "    .dataframe thead th {\n",
       "        text-align: right;\n",
       "    }\n",
       "</style>\n",
       "<table border=\"1\" class=\"dataframe\">\n",
       "  <thead>\n",
       "    <tr style=\"text-align: right;\">\n",
       "      <th></th>\n",
       "      <th>RECRD</th>\n",
       "      <th>VESSLTERMS</th>\n",
       "      <th>AREA_ID</th>\n",
       "      <th>CHART</th>\n",
       "      <th>LATDEC</th>\n",
       "      <th>LONDEC</th>\n",
       "      <th>GP_QUALITY</th>\n",
       "      <th>GP_SOURCE</th>\n",
       "      <th>DEPTH</th>\n",
       "      <th>SOUNDING_T</th>\n",
       "      <th>YEARSUNK</th>\n",
       "      <th>HISTORY</th>\n",
       "      <th>REFERENCE</th>\n",
       "      <th>geometry</th>\n",
       "    </tr>\n",
       "  </thead>\n",
       "  <tbody>\n",
       "    <tr>\n",
       "      <th>1093</th>\n",
       "      <td>15129</td>\n",
       "      <td>WRECK</td>\n",
       "      <td>C</td>\n",
       "      <td>12402</td>\n",
       "      <td>40.567114</td>\n",
       "      <td>-74.047717</td>\n",
       "      <td>High</td>\n",
       "      <td>Direct</td>\n",
       "      <td>4</td>\n",
       "      <td>Feet and tenths</td>\n",
       "      <td>None</td>\n",
       "      <td>LNM09/12, USCG District 1-- Added \"4\" wreck an...</td>\n",
       "      <td>None</td>\n",
       "      <td>POINT (-74.04772 40.56711)</td>\n",
       "    </tr>\n",
       "    <tr>\n",
       "      <th>1094</th>\n",
       "      <td>8909</td>\n",
       "      <td>UNKNOWN</td>\n",
       "      <td>C</td>\n",
       "      <td>12214</td>\n",
       "      <td>38.845972</td>\n",
       "      <td>-74.835139</td>\n",
       "      <td>High</td>\n",
       "      <td>Direct</td>\n",
       "      <td>28</td>\n",
       "      <td>Feet and tenths</td>\n",
       "      <td>None</td>\n",
       "      <td>H-10241/94-- OPR-D368-WH; UNCHARTED WRECKAGE A...</td>\n",
       "      <td>None</td>\n",
       "      <td>POINT (-74.83514 38.84597)</td>\n",
       "    </tr>\n",
       "    <tr>\n",
       "      <th>1095</th>\n",
       "      <td>11992</td>\n",
       "      <td>UNKNOWN</td>\n",
       "      <td>C</td>\n",
       "      <td>12353</td>\n",
       "      <td>40.618333</td>\n",
       "      <td>-73.08025</td>\n",
       "      <td>High</td>\n",
       "      <td>Direct</td>\n",
       "      <td>50</td>\n",
       "      <td>Feet and tenths</td>\n",
       "      <td>None</td>\n",
       "      <td>\\r\\n HISTORY\\r\\n  LNM28/90 (7/11/90)-- ADD SYM...</td>\n",
       "      <td>None</td>\n",
       "      <td>POINT (-73.08025 40.61833)</td>\n",
       "    </tr>\n",
       "    <tr>\n",
       "      <th>1096</th>\n",
       "      <td>12021</td>\n",
       "      <td>UNKNOWN</td>\n",
       "      <td>C</td>\n",
       "      <td>12214</td>\n",
       "      <td>38.928942</td>\n",
       "      <td>-74.855206</td>\n",
       "      <td>High</td>\n",
       "      <td>Direct</td>\n",
       "      <td>35</td>\n",
       "      <td>Feet and tenths</td>\n",
       "      <td>None</td>\n",
       "      <td>H11104/02--OPR-C303-KR;  FOUND A SUNKEN WRECK ...</td>\n",
       "      <td>None</td>\n",
       "      <td>POINT (-74.85521 38.92894)</td>\n",
       "    </tr>\n",
       "    <tr>\n",
       "      <th>1097</th>\n",
       "      <td>12026</td>\n",
       "      <td>UNKNOWN</td>\n",
       "      <td>C</td>\n",
       "      <td>12214</td>\n",
       "      <td>38.903281</td>\n",
       "      <td>-74.814119</td>\n",
       "      <td>High</td>\n",
       "      <td>Direct</td>\n",
       "      <td>34</td>\n",
       "      <td>Feet and tenths</td>\n",
       "      <td>None</td>\n",
       "      <td>H11104/02--OPR-C303-KR;  FOUND A SUNKEN WRECK ...</td>\n",
       "      <td>None</td>\n",
       "      <td>POINT (-74.81412 38.90328)</td>\n",
       "    </tr>\n",
       "  </tbody>\n",
       "</table>\n",
       "</div>"
      ],
      "text/plain": [
       "      RECRD VESSLTERMS AREA_ID  CHART     LATDEC      LONDEC GP_QUALITY  \\\n",
       "1093  15129      WRECK       C  12402  40.567114  -74.047717       High   \n",
       "1094   8909    UNKNOWN       C  12214  38.845972  -74.835139       High   \n",
       "1095  11992    UNKNOWN       C  12353  40.618333   -73.08025       High   \n",
       "1096  12021    UNKNOWN       C  12214  38.928942  -74.855206       High   \n",
       "1097  12026    UNKNOWN       C  12214  38.903281  -74.814119       High   \n",
       "\n",
       "     GP_SOURCE DEPTH       SOUNDING_T YEARSUNK  \\\n",
       "1093    Direct     4  Feet and tenths     None   \n",
       "1094    Direct    28  Feet and tenths     None   \n",
       "1095    Direct    50  Feet and tenths     None   \n",
       "1096    Direct    35  Feet and tenths     None   \n",
       "1097    Direct    34  Feet and tenths     None   \n",
       "\n",
       "                                                HISTORY REFERENCE  \\\n",
       "1093  LNM09/12, USCG District 1-- Added \"4\" wreck an...      None   \n",
       "1094  H-10241/94-- OPR-D368-WH; UNCHARTED WRECKAGE A...      None   \n",
       "1095  \\r\\n HISTORY\\r\\n  LNM28/90 (7/11/90)-- ADD SYM...      None   \n",
       "1096  H11104/02--OPR-C303-KR;  FOUND A SUNKEN WRECK ...      None   \n",
       "1097  H11104/02--OPR-C303-KR;  FOUND A SUNKEN WRECK ...      None   \n",
       "\n",
       "                        geometry  \n",
       "1093  POINT (-74.04772 40.56711)  \n",
       "1094  POINT (-74.83514 38.84597)  \n",
       "1095  POINT (-73.08025 40.61833)  \n",
       "1096  POINT (-74.85521 38.92894)  \n",
       "1097  POINT (-74.81412 38.90328)  "
      ]
     },
     "execution_count": 2,
     "metadata": {},
     "output_type": "execute_result"
    }
   ],
   "source": [
    "# Read AWOIS Wreck shapefile into GeoDataFrames\n",
    "awois_wrecks = gpd.read_file('./data/AWOIS_Wrecks/AWOIS_Wrecks.shp', driver='shapefile')\n",
    "\n",
    "# Keep only rows in geographic regions B and C (Southern MA to Northern NJ)\n",
    "awois_wrecks = awois_wrecks[awois_wrecks['AREA_ID'].str.contains('B|C')]\n",
    "\n",
    "awois_wrecks.head()"
   ]
  },
  {
   "cell_type": "code",
   "execution_count": 3,
   "metadata": {},
   "outputs": [
    {
     "name": "stdout",
     "output_type": "stream",
     "text": [
      "<class 'geopandas.geodataframe.GeoDataFrame'>\n",
      "Int64Index: 1771 entries, 1093 to 5346\n",
      "Data columns (total 14 columns):\n",
      " #   Column      Non-Null Count  Dtype   \n",
      "---  ------      --------------  -----   \n",
      " 0   RECRD       1771 non-null   object  \n",
      " 1   VESSLTERMS  1771 non-null   object  \n",
      " 2   AREA_ID     1771 non-null   object  \n",
      " 3   CHART       1765 non-null   object  \n",
      " 4   LATDEC      1771 non-null   object  \n",
      " 5   LONDEC      1771 non-null   object  \n",
      " 6   GP_QUALITY  1750 non-null   object  \n",
      " 7   GP_SOURCE   1477 non-null   object  \n",
      " 8   DEPTH       1591 non-null   object  \n",
      " 9   SOUNDING_T  845 non-null    object  \n",
      " 10  YEARSUNK    16 non-null     object  \n",
      " 11  HISTORY     1725 non-null   object  \n",
      " 12  REFERENCE   28 non-null     object  \n",
      " 13  geometry    1771 non-null   geometry\n",
      "dtypes: geometry(1), object(13)\n",
      "memory usage: 207.5+ KB\n"
     ]
    }
   ],
   "source": [
    "awois_wrecks.info()"
   ]
  },
  {
   "cell_type": "code",
   "execution_count": 4,
   "metadata": {},
   "outputs": [
    {
     "data": {
      "text/html": [
       "<div>\n",
       "<style scoped>\n",
       "    .dataframe tbody tr th:only-of-type {\n",
       "        vertical-align: middle;\n",
       "    }\n",
       "\n",
       "    .dataframe tbody tr th {\n",
       "        vertical-align: top;\n",
       "    }\n",
       "\n",
       "    .dataframe thead th {\n",
       "        text-align: right;\n",
       "    }\n",
       "</style>\n",
       "<table border=\"1\" class=\"dataframe\">\n",
       "  <thead>\n",
       "    <tr style=\"text-align: right;\">\n",
       "      <th></th>\n",
       "      <th>RECRD</th>\n",
       "      <th>VESSLTERMS</th>\n",
       "      <th>AREA_ID</th>\n",
       "      <th>CHART</th>\n",
       "      <th>LATDEC</th>\n",
       "      <th>LONDEC</th>\n",
       "      <th>GP_QUALITY</th>\n",
       "      <th>GP_SOURCE</th>\n",
       "      <th>DEPTH</th>\n",
       "      <th>SOUNDING_T</th>\n",
       "      <th>YEARSUNK</th>\n",
       "      <th>HISTORY</th>\n",
       "      <th>REFERENCE</th>\n",
       "      <th>geometry</th>\n",
       "    </tr>\n",
       "  </thead>\n",
       "  <tbody>\n",
       "    <tr>\n",
       "      <th>1441</th>\n",
       "      <td>15204</td>\n",
       "      <td>OBSTRUCTION</td>\n",
       "      <td>C</td>\n",
       "      <td>12326</td>\n",
       "      <td>40.338361</td>\n",
       "      <td>-73.699722</td>\n",
       "      <td>None</td>\n",
       "      <td>Not Provided</td>\n",
       "      <td>24.7</td>\n",
       "      <td>Meters and tenths</td>\n",
       "      <td>None</td>\n",
       "      <td>H12627/OPR-B310-FH-13: New wreck identified at...</td>\n",
       "      <td>None</td>\n",
       "      <td>POINT (-73.69972 40.33836)</td>\n",
       "    </tr>\n",
       "    <tr>\n",
       "      <th>1442</th>\n",
       "      <td>8910</td>\n",
       "      <td>OBSTRUCTION</td>\n",
       "      <td>C</td>\n",
       "      <td>12214</td>\n",
       "      <td>38.821772</td>\n",
       "      <td>-74.829433</td>\n",
       "      <td>High</td>\n",
       "      <td>Direct</td>\n",
       "      <td>0</td>\n",
       "      <td>None</td>\n",
       "      <td>None</td>\n",
       "      <td>HISTORY\\r\\n  H-10241/94-- OPR-D368-WH; UNCHART...</td>\n",
       "      <td>None</td>\n",
       "      <td>POINT (-74.82943 38.82177)</td>\n",
       "    </tr>\n",
       "    <tr>\n",
       "      <th>1443</th>\n",
       "      <td>8911</td>\n",
       "      <td>OBSTRUCTION</td>\n",
       "      <td>C</td>\n",
       "      <td>12214</td>\n",
       "      <td>38.840908</td>\n",
       "      <td>-74.837733</td>\n",
       "      <td>High</td>\n",
       "      <td>Direct</td>\n",
       "      <td>12.4</td>\n",
       "      <td>Meters and tenths</td>\n",
       "      <td>None</td>\n",
       "      <td>HISTORY\\r\\n  H-10241/94-- OPR-D368-WH; UNCHART...</td>\n",
       "      <td>None</td>\n",
       "      <td>POINT (-74.83773 38.84091)</td>\n",
       "    </tr>\n",
       "    <tr>\n",
       "      <th>1444</th>\n",
       "      <td>8777</td>\n",
       "      <td>OBSTRUCTION</td>\n",
       "      <td>C</td>\n",
       "      <td>12214</td>\n",
       "      <td>38.803025</td>\n",
       "      <td>-74.947608</td>\n",
       "      <td>High</td>\n",
       "      <td>Direct</td>\n",
       "      <td>11.9</td>\n",
       "      <td>Meters and tenths</td>\n",
       "      <td>None</td>\n",
       "      <td>HISTORY\\r\\n  H10444/92-93; FE-387/93-- OPR-D36...</td>\n",
       "      <td>None</td>\n",
       "      <td>POINT (-74.94761 38.80302)</td>\n",
       "    </tr>\n",
       "    <tr>\n",
       "      <th>1445</th>\n",
       "      <td>8778</td>\n",
       "      <td>OBSTRUCTION</td>\n",
       "      <td>C</td>\n",
       "      <td>12214</td>\n",
       "      <td>38.805506</td>\n",
       "      <td>-74.919508</td>\n",
       "      <td>High</td>\n",
       "      <td>Direct</td>\n",
       "      <td>11.5</td>\n",
       "      <td>Meters and tenths</td>\n",
       "      <td>None</td>\n",
       "      <td>HISTORY\\r\\n  H10444/92-93; FE-387/93-- OPR-D36...</td>\n",
       "      <td>None</td>\n",
       "      <td>POINT (-74.91951 38.80551)</td>\n",
       "    </tr>\n",
       "  </tbody>\n",
       "</table>\n",
       "</div>"
      ],
      "text/plain": [
       "      RECRD   VESSLTERMS AREA_ID  CHART     LATDEC      LONDEC GP_QUALITY  \\\n",
       "1441  15204  OBSTRUCTION       C  12326  40.338361  -73.699722       None   \n",
       "1442   8910  OBSTRUCTION       C  12214  38.821772  -74.829433       High   \n",
       "1443   8911  OBSTRUCTION       C  12214  38.840908  -74.837733       High   \n",
       "1444   8777  OBSTRUCTION       C  12214  38.803025  -74.947608       High   \n",
       "1445   8778  OBSTRUCTION       C  12214  38.805506  -74.919508       High   \n",
       "\n",
       "         GP_SOURCE DEPTH         SOUNDING_T YEARSUNK  \\\n",
       "1441  Not Provided  24.7  Meters and tenths     None   \n",
       "1442        Direct     0               None     None   \n",
       "1443        Direct  12.4  Meters and tenths     None   \n",
       "1444        Direct  11.9  Meters and tenths     None   \n",
       "1445        Direct  11.5  Meters and tenths     None   \n",
       "\n",
       "                                                HISTORY REFERENCE  \\\n",
       "1441  H12627/OPR-B310-FH-13: New wreck identified at...      None   \n",
       "1442  HISTORY\\r\\n  H-10241/94-- OPR-D368-WH; UNCHART...      None   \n",
       "1443  HISTORY\\r\\n  H-10241/94-- OPR-D368-WH; UNCHART...      None   \n",
       "1444  HISTORY\\r\\n  H10444/92-93; FE-387/93-- OPR-D36...      None   \n",
       "1445  HISTORY\\r\\n  H10444/92-93; FE-387/93-- OPR-D36...      None   \n",
       "\n",
       "                        geometry  \n",
       "1441  POINT (-73.69972 40.33836)  \n",
       "1442  POINT (-74.82943 38.82177)  \n",
       "1443  POINT (-74.83773 38.84091)  \n",
       "1444  POINT (-74.94761 38.80302)  \n",
       "1445  POINT (-74.91951 38.80551)  "
      ]
     },
     "execution_count": 4,
     "metadata": {},
     "output_type": "execute_result"
    }
   ],
   "source": [
    "# Read AWOIS Obstructions shapefile into GeoDataFrames\n",
    "awois_obs = gpd.read_file('./data/AWOIS_Obstructions/AWOIS_Obstructions.shp', driver='shapefile')\n",
    "\n",
    "# Keep only rows in geographic regions B and C (Southern MA to Northern NJ)\n",
    "awois_obs = awois_obs[awois_obs['AREA_ID'].str.contains('B|C')]\n",
    "\n",
    "awois_obs.head()"
   ]
  },
  {
   "cell_type": "code",
   "execution_count": 5,
   "metadata": {},
   "outputs": [
    {
     "name": "stdout",
     "output_type": "stream",
     "text": [
      "<class 'geopandas.geodataframe.GeoDataFrame'>\n",
      "Int64Index: 1218 entries, 1441 to 5274\n",
      "Data columns (total 14 columns):\n",
      " #   Column      Non-Null Count  Dtype   \n",
      "---  ------      --------------  -----   \n",
      " 0   RECRD       1218 non-null   object  \n",
      " 1   VESSLTERMS  1218 non-null   object  \n",
      " 2   AREA_ID     1218 non-null   object  \n",
      " 3   CHART       1211 non-null   object  \n",
      " 4   LATDEC      1218 non-null   object  \n",
      " 5   LONDEC      1218 non-null   object  \n",
      " 6   GP_QUALITY  1203 non-null   object  \n",
      " 7   GP_SOURCE   1203 non-null   object  \n",
      " 8   DEPTH       1074 non-null   object  \n",
      " 9   SOUNDING_T  759 non-null    object  \n",
      " 10  YEARSUNK    2 non-null      object  \n",
      " 11  HISTORY     1208 non-null   object  \n",
      " 12  REFERENCE   0 non-null      object  \n",
      " 13  geometry    1218 non-null   geometry\n",
      "dtypes: geometry(1), object(13)\n",
      "memory usage: 142.7+ KB\n"
     ]
    }
   ],
   "source": [
    "awois_obs.info()"
   ]
  },
  {
   "cell_type": "code",
   "execution_count": 6,
   "metadata": {},
   "outputs": [
    {
     "data": {
      "text/html": [
       "<div>\n",
       "<style scoped>\n",
       "    .dataframe tbody tr th:only-of-type {\n",
       "        vertical-align: middle;\n",
       "    }\n",
       "\n",
       "    .dataframe tbody tr th {\n",
       "        vertical-align: top;\n",
       "    }\n",
       "\n",
       "    .dataframe thead th {\n",
       "        text-align: right;\n",
       "    }\n",
       "</style>\n",
       "<table border=\"1\" class=\"dataframe\">\n",
       "  <thead>\n",
       "    <tr style=\"text-align: right;\">\n",
       "      <th></th>\n",
       "      <th>recrd</th>\n",
       "      <th>vesslterms</th>\n",
       "      <th>feature_type</th>\n",
       "      <th>chart</th>\n",
       "      <th>latdec</th>\n",
       "      <th>londec</th>\n",
       "      <th>gp_quality</th>\n",
       "      <th>depth</th>\n",
       "      <th>sounding_type</th>\n",
       "      <th>yearsunk</th>\n",
       "      <th>history</th>\n",
       "      <th>quasou</th>\n",
       "      <th>watlev</th>\n",
       "    </tr>\n",
       "  </thead>\n",
       "  <tbody>\n",
       "    <tr>\n",
       "      <th>0</th>\n",
       "      <td>NaN</td>\n",
       "      <td>NaN</td>\n",
       "      <td>Wrecks - Visible</td>\n",
       "      <td>US,US,reprt,L-1218/15</td>\n",
       "      <td>9.569000</td>\n",
       "      <td>-79.037834</td>\n",
       "      <td>NaN</td>\n",
       "      <td>NaN</td>\n",
       "      <td>NaN</td>\n",
       "      <td>NaN</td>\n",
       "      <td>NaN</td>\n",
       "      <td>NaN</td>\n",
       "      <td>always dry</td>\n",
       "    </tr>\n",
       "    <tr>\n",
       "      <th>1</th>\n",
       "      <td>NaN</td>\n",
       "      <td>NaN</td>\n",
       "      <td>Wrecks - Visible</td>\n",
       "      <td>US,US,reprt,L-1218/15</td>\n",
       "      <td>9.557486</td>\n",
       "      <td>-78.879013</td>\n",
       "      <td>NaN</td>\n",
       "      <td>NaN</td>\n",
       "      <td>NaN</td>\n",
       "      <td>NaN</td>\n",
       "      <td>NaN</td>\n",
       "      <td>NaN</td>\n",
       "      <td>always dry</td>\n",
       "    </tr>\n",
       "    <tr>\n",
       "      <th>2</th>\n",
       "      <td>NaN</td>\n",
       "      <td>NaN</td>\n",
       "      <td>Wrecks - Visible</td>\n",
       "      <td>US,US,reprt,L-1218/15</td>\n",
       "      <td>9.554478</td>\n",
       "      <td>-78.943573</td>\n",
       "      <td>NaN</td>\n",
       "      <td>NaN</td>\n",
       "      <td>NaN</td>\n",
       "      <td>NaN</td>\n",
       "      <td>NaN</td>\n",
       "      <td>NaN</td>\n",
       "      <td>always dry</td>\n",
       "    </tr>\n",
       "    <tr>\n",
       "      <th>3</th>\n",
       "      <td>NaN</td>\n",
       "      <td>NaN</td>\n",
       "      <td>Wrecks - Visible</td>\n",
       "      <td>US,US,reprt,L-1453/14</td>\n",
       "      <td>18.231279</td>\n",
       "      <td>-72.541992</td>\n",
       "      <td>NaN</td>\n",
       "      <td>NaN</td>\n",
       "      <td>NaN</td>\n",
       "      <td>NaN</td>\n",
       "      <td>NaN</td>\n",
       "      <td>NaN</td>\n",
       "      <td>always dry</td>\n",
       "    </tr>\n",
       "    <tr>\n",
       "      <th>4</th>\n",
       "      <td>NaN</td>\n",
       "      <td>NaN</td>\n",
       "      <td>Wrecks - Visible</td>\n",
       "      <td>US,US,reprt,L-1453/14</td>\n",
       "      <td>18.228279</td>\n",
       "      <td>-72.534180</td>\n",
       "      <td>NaN</td>\n",
       "      <td>NaN</td>\n",
       "      <td>NaN</td>\n",
       "      <td>NaN</td>\n",
       "      <td>NaN</td>\n",
       "      <td>NaN</td>\n",
       "      <td>always dry</td>\n",
       "    </tr>\n",
       "  </tbody>\n",
       "</table>\n",
       "</div>"
      ],
      "text/plain": [
       "   recrd vesslterms      feature_type                  chart     latdec  \\\n",
       "0    NaN        NaN  Wrecks - Visible  US,US,reprt,L-1218/15   9.569000   \n",
       "1    NaN        NaN  Wrecks - Visible  US,US,reprt,L-1218/15   9.557486   \n",
       "2    NaN        NaN  Wrecks - Visible  US,US,reprt,L-1218/15   9.554478   \n",
       "3    NaN        NaN  Wrecks - Visible  US,US,reprt,L-1453/14  18.231279   \n",
       "4    NaN        NaN  Wrecks - Visible  US,US,reprt,L-1453/14  18.228279   \n",
       "\n",
       "      londec  gp_quality  depth sounding_type  yearsunk history quasou  \\\n",
       "0 -79.037834         NaN    NaN           NaN       NaN     NaN    NaN   \n",
       "1 -78.879013         NaN    NaN           NaN       NaN     NaN    NaN   \n",
       "2 -78.943573         NaN    NaN           NaN       NaN     NaN    NaN   \n",
       "3 -72.541992         NaN    NaN           NaN       NaN     NaN    NaN   \n",
       "4 -72.534180         NaN    NaN           NaN       NaN     NaN    NaN   \n",
       "\n",
       "       watlev  \n",
       "0  always dry  \n",
       "1  always dry  \n",
       "2  always dry  \n",
       "3  always dry  \n",
       "4  always dry  "
      ]
     },
     "execution_count": 6,
     "metadata": {},
     "output_type": "execute_result"
    }
   ],
   "source": [
    "# Import ENC info from CSV file into temp DataFrame\n",
    "tmp_enc = pd.read_csv('./data/ENC_Wrecks/ENC_Wrecks.csv')\n",
    "\n",
    "tmp_enc.head()"
   ]
  },
  {
   "cell_type": "code",
   "execution_count": 7,
   "metadata": {},
   "outputs": [
    {
     "data": {
      "text/html": [
       "<div>\n",
       "<style scoped>\n",
       "    .dataframe tbody tr th:only-of-type {\n",
       "        vertical-align: middle;\n",
       "    }\n",
       "\n",
       "    .dataframe tbody tr th {\n",
       "        vertical-align: top;\n",
       "    }\n",
       "\n",
       "    .dataframe thead th {\n",
       "        text-align: right;\n",
       "    }\n",
       "</style>\n",
       "<table border=\"1\" class=\"dataframe\">\n",
       "  <thead>\n",
       "    <tr style=\"text-align: right;\">\n",
       "      <th></th>\n",
       "      <th>recrd</th>\n",
       "      <th>vesslterms</th>\n",
       "      <th>feature_type</th>\n",
       "      <th>chart</th>\n",
       "      <th>latdec</th>\n",
       "      <th>londec</th>\n",
       "      <th>gp_quality</th>\n",
       "      <th>depth</th>\n",
       "      <th>sounding_type</th>\n",
       "      <th>yearsunk</th>\n",
       "      <th>history</th>\n",
       "      <th>quasou</th>\n",
       "      <th>watlev</th>\n",
       "      <th>geometry</th>\n",
       "    </tr>\n",
       "  </thead>\n",
       "  <tbody>\n",
       "    <tr>\n",
       "      <th>0</th>\n",
       "      <td>NaN</td>\n",
       "      <td>NaN</td>\n",
       "      <td>Wrecks - Visible</td>\n",
       "      <td>US,US,reprt,L-1218/15</td>\n",
       "      <td>9.569000</td>\n",
       "      <td>-79.037834</td>\n",
       "      <td>NaN</td>\n",
       "      <td>NaN</td>\n",
       "      <td>NaN</td>\n",
       "      <td>NaN</td>\n",
       "      <td>NaN</td>\n",
       "      <td>NaN</td>\n",
       "      <td>always dry</td>\n",
       "      <td>POINT (-79.03783 9.56900)</td>\n",
       "    </tr>\n",
       "    <tr>\n",
       "      <th>1</th>\n",
       "      <td>NaN</td>\n",
       "      <td>NaN</td>\n",
       "      <td>Wrecks - Visible</td>\n",
       "      <td>US,US,reprt,L-1218/15</td>\n",
       "      <td>9.557486</td>\n",
       "      <td>-78.879013</td>\n",
       "      <td>NaN</td>\n",
       "      <td>NaN</td>\n",
       "      <td>NaN</td>\n",
       "      <td>NaN</td>\n",
       "      <td>NaN</td>\n",
       "      <td>NaN</td>\n",
       "      <td>always dry</td>\n",
       "      <td>POINT (-78.87901 9.55749)</td>\n",
       "    </tr>\n",
       "    <tr>\n",
       "      <th>2</th>\n",
       "      <td>NaN</td>\n",
       "      <td>NaN</td>\n",
       "      <td>Wrecks - Visible</td>\n",
       "      <td>US,US,reprt,L-1218/15</td>\n",
       "      <td>9.554478</td>\n",
       "      <td>-78.943573</td>\n",
       "      <td>NaN</td>\n",
       "      <td>NaN</td>\n",
       "      <td>NaN</td>\n",
       "      <td>NaN</td>\n",
       "      <td>NaN</td>\n",
       "      <td>NaN</td>\n",
       "      <td>always dry</td>\n",
       "      <td>POINT (-78.94357 9.55448)</td>\n",
       "    </tr>\n",
       "    <tr>\n",
       "      <th>3</th>\n",
       "      <td>NaN</td>\n",
       "      <td>NaN</td>\n",
       "      <td>Wrecks - Visible</td>\n",
       "      <td>US,US,reprt,L-1453/14</td>\n",
       "      <td>18.231279</td>\n",
       "      <td>-72.541992</td>\n",
       "      <td>NaN</td>\n",
       "      <td>NaN</td>\n",
       "      <td>NaN</td>\n",
       "      <td>NaN</td>\n",
       "      <td>NaN</td>\n",
       "      <td>NaN</td>\n",
       "      <td>always dry</td>\n",
       "      <td>POINT (-72.54199 18.23128)</td>\n",
       "    </tr>\n",
       "    <tr>\n",
       "      <th>4</th>\n",
       "      <td>NaN</td>\n",
       "      <td>NaN</td>\n",
       "      <td>Wrecks - Visible</td>\n",
       "      <td>US,US,reprt,L-1453/14</td>\n",
       "      <td>18.228279</td>\n",
       "      <td>-72.534180</td>\n",
       "      <td>NaN</td>\n",
       "      <td>NaN</td>\n",
       "      <td>NaN</td>\n",
       "      <td>NaN</td>\n",
       "      <td>NaN</td>\n",
       "      <td>NaN</td>\n",
       "      <td>always dry</td>\n",
       "      <td>POINT (-72.53418 18.22828)</td>\n",
       "    </tr>\n",
       "  </tbody>\n",
       "</table>\n",
       "</div>"
      ],
      "text/plain": [
       "   recrd vesslterms      feature_type                  chart     latdec  \\\n",
       "0    NaN        NaN  Wrecks - Visible  US,US,reprt,L-1218/15   9.569000   \n",
       "1    NaN        NaN  Wrecks - Visible  US,US,reprt,L-1218/15   9.557486   \n",
       "2    NaN        NaN  Wrecks - Visible  US,US,reprt,L-1218/15   9.554478   \n",
       "3    NaN        NaN  Wrecks - Visible  US,US,reprt,L-1453/14  18.231279   \n",
       "4    NaN        NaN  Wrecks - Visible  US,US,reprt,L-1453/14  18.228279   \n",
       "\n",
       "      londec  gp_quality  depth sounding_type  yearsunk history quasou  \\\n",
       "0 -79.037834         NaN    NaN           NaN       NaN     NaN    NaN   \n",
       "1 -78.879013         NaN    NaN           NaN       NaN     NaN    NaN   \n",
       "2 -78.943573         NaN    NaN           NaN       NaN     NaN    NaN   \n",
       "3 -72.541992         NaN    NaN           NaN       NaN     NaN    NaN   \n",
       "4 -72.534180         NaN    NaN           NaN       NaN     NaN    NaN   \n",
       "\n",
       "       watlev                    geometry  \n",
       "0  always dry   POINT (-79.03783 9.56900)  \n",
       "1  always dry   POINT (-78.87901 9.55749)  \n",
       "2  always dry   POINT (-78.94357 9.55448)  \n",
       "3  always dry  POINT (-72.54199 18.23128)  \n",
       "4  always dry  POINT (-72.53418 18.22828)  "
      ]
     },
     "execution_count": 7,
     "metadata": {},
     "output_type": "execute_result"
    }
   ],
   "source": [
    "# Convert into a GeoDataFrame\n",
    "enc_wrecks = gpd.GeoDataFrame(tmp_enc,\n",
    "                              geometry=gpd.points_from_xy(\n",
    "                                  tmp_enc.londec,\n",
    "                                  tmp_enc.latdec),\n",
    "                              crs='EPSG:4326')\n",
    "\n",
    "# Alternative way to set CRS if not done with `crs` parameter\n",
    "#    The ENC_Wrecks shapefile used WGS84, which is EPSG code 4326\n",
    "# enc_wrecks.crs = 'EPSG:4326'\n",
    "\n",
    "enc_wrecks.head()"
   ]
  },
  {
   "cell_type": "code",
   "execution_count": 8,
   "metadata": {},
   "outputs": [
    {
     "name": "stdout",
     "output_type": "stream",
     "text": [
      "<class 'geopandas.geodataframe.GeoDataFrame'>\n",
      "RangeIndex: 11495 entries, 0 to 11494\n",
      "Data columns (total 14 columns):\n",
      " #   Column         Non-Null Count  Dtype   \n",
      "---  ------         --------------  -----   \n",
      " 0   recrd          0 non-null      float64 \n",
      " 1   vesslterms     86 non-null     object  \n",
      " 2   feature_type   11462 non-null  object  \n",
      " 3   chart          11490 non-null  object  \n",
      " 4   latdec         11495 non-null  float64 \n",
      " 5   londec         11495 non-null  float64 \n",
      " 6   gp_quality     0 non-null      float64 \n",
      " 7   depth          2971 non-null   float64 \n",
      " 8   sounding_type  148 non-null    object  \n",
      " 9   yearsunk       0 non-null      float64 \n",
      " 10  history        361 non-null    object  \n",
      " 11  quasou         8816 non-null   object  \n",
      " 12  watlev         11478 non-null  object  \n",
      " 13  geometry       11495 non-null  geometry\n",
      "dtypes: float64(6), geometry(1), object(7)\n",
      "memory usage: 1.2+ MB\n"
     ]
    }
   ],
   "source": [
    "enc_wrecks.info()"
   ]
  },
  {
   "cell_type": "code",
   "execution_count": 9,
   "metadata": {},
   "outputs": [],
   "source": [
    "# Remove points outside the general area of interest (southern MA to northern NJ)\n",
    "#   Longitude extent for area of interest = [-74.95, -63.6]\n",
    "#   Latitude extent for area of interest = [38.8, 41.8]\n",
    "\n",
    "# Create a polygon using the lat/lon values\n",
    "enc_extent = shapely.geometry.box(-74.95, 38.8, -63.6, 41.8, ccw=True)"
   ]
  },
  {
   "cell_type": "code",
   "execution_count": 10,
   "metadata": {},
   "outputs": [
    {
     "data": {
      "text/html": [
       "<div>\n",
       "<style scoped>\n",
       "    .dataframe tbody tr th:only-of-type {\n",
       "        vertical-align: middle;\n",
       "    }\n",
       "\n",
       "    .dataframe tbody tr th {\n",
       "        vertical-align: top;\n",
       "    }\n",
       "\n",
       "    .dataframe thead th {\n",
       "        text-align: right;\n",
       "    }\n",
       "</style>\n",
       "<table border=\"1\" class=\"dataframe\">\n",
       "  <thead>\n",
       "    <tr style=\"text-align: right;\">\n",
       "      <th></th>\n",
       "      <th>recrd</th>\n",
       "      <th>vesslterms</th>\n",
       "      <th>feature_type</th>\n",
       "      <th>chart</th>\n",
       "      <th>latdec</th>\n",
       "      <th>londec</th>\n",
       "      <th>gp_quality</th>\n",
       "      <th>depth</th>\n",
       "      <th>sounding_type</th>\n",
       "      <th>yearsunk</th>\n",
       "      <th>history</th>\n",
       "      <th>quasou</th>\n",
       "      <th>watlev</th>\n",
       "      <th>geometry</th>\n",
       "    </tr>\n",
       "  </thead>\n",
       "  <tbody>\n",
       "    <tr>\n",
       "      <th>921</th>\n",
       "      <td>NaN</td>\n",
       "      <td>NaN</td>\n",
       "      <td>Wrecks - Submerged, nondangerous</td>\n",
       "      <td>US,US,graph,Chart 12364</td>\n",
       "      <td>41.022946</td>\n",
       "      <td>-73.185735</td>\n",
       "      <td>NaN</td>\n",
       "      <td>34.1</td>\n",
       "      <td>NaN</td>\n",
       "      <td>NaN</td>\n",
       "      <td>NaN</td>\n",
       "      <td>least depth known</td>\n",
       "      <td>always under water/submerged</td>\n",
       "      <td>POINT (-73.18573 41.02295)</td>\n",
       "    </tr>\n",
       "    <tr>\n",
       "      <th>922</th>\n",
       "      <td>NaN</td>\n",
       "      <td>NaN</td>\n",
       "      <td>Wrecks - Submerged, nondangerous</td>\n",
       "      <td>US,US,graph,Chart 12363</td>\n",
       "      <td>41.029144</td>\n",
       "      <td>-73.175032</td>\n",
       "      <td>NaN</td>\n",
       "      <td>31.3</td>\n",
       "      <td>NaN</td>\n",
       "      <td>NaN</td>\n",
       "      <td>NaN</td>\n",
       "      <td>least depth known</td>\n",
       "      <td>always under water/submerged</td>\n",
       "      <td>POINT (-73.17503 41.02914)</td>\n",
       "    </tr>\n",
       "    <tr>\n",
       "      <th>923</th>\n",
       "      <td>NaN</td>\n",
       "      <td>NaN</td>\n",
       "      <td>Wrecks - Submerged, dangerous</td>\n",
       "      <td>US,US,graph,DD-22759</td>\n",
       "      <td>40.975046</td>\n",
       "      <td>-73.260620</td>\n",
       "      <td>NaN</td>\n",
       "      <td>18.8</td>\n",
       "      <td>NaN</td>\n",
       "      <td>NaN</td>\n",
       "      <td>NaN</td>\n",
       "      <td>least depth known</td>\n",
       "      <td>always under water/submerged</td>\n",
       "      <td>POINT (-73.26062 40.97505)</td>\n",
       "    </tr>\n",
       "    <tr>\n",
       "      <th>924</th>\n",
       "      <td>NaN</td>\n",
       "      <td>NaN</td>\n",
       "      <td>Wrecks - Submerged, dangerous</td>\n",
       "      <td>US,US,reprt,DD-24912</td>\n",
       "      <td>40.948703</td>\n",
       "      <td>-73.202178</td>\n",
       "      <td>NaN</td>\n",
       "      <td>10.3</td>\n",
       "      <td>NaN</td>\n",
       "      <td>NaN</td>\n",
       "      <td>NaN</td>\n",
       "      <td>least depth known</td>\n",
       "      <td>always under water/submerged</td>\n",
       "      <td>POINT (-73.20218 40.94870)</td>\n",
       "    </tr>\n",
       "    <tr>\n",
       "      <th>925</th>\n",
       "      <td>NaN</td>\n",
       "      <td>NaN</td>\n",
       "      <td>Wrecks - Submerged, nondangerous</td>\n",
       "      <td>US,US,graph,BP-191410</td>\n",
       "      <td>41.029722</td>\n",
       "      <td>-73.171556</td>\n",
       "      <td>NaN</td>\n",
       "      <td>31.0</td>\n",
       "      <td>NaN</td>\n",
       "      <td>NaN</td>\n",
       "      <td>NaN</td>\n",
       "      <td>least depth known</td>\n",
       "      <td>always under water/submerged</td>\n",
       "      <td>POINT (-73.17156 41.02972)</td>\n",
       "    </tr>\n",
       "  </tbody>\n",
       "</table>\n",
       "</div>"
      ],
      "text/plain": [
       "     recrd vesslterms                      feature_type  \\\n",
       "921    NaN        NaN  Wrecks - Submerged, nondangerous   \n",
       "922    NaN        NaN  Wrecks - Submerged, nondangerous   \n",
       "923    NaN        NaN     Wrecks - Submerged, dangerous   \n",
       "924    NaN        NaN     Wrecks - Submerged, dangerous   \n",
       "925    NaN        NaN  Wrecks - Submerged, nondangerous   \n",
       "\n",
       "                       chart     latdec     londec  gp_quality  depth  \\\n",
       "921  US,US,graph,Chart 12364  41.022946 -73.185735         NaN   34.1   \n",
       "922  US,US,graph,Chart 12363  41.029144 -73.175032         NaN   31.3   \n",
       "923     US,US,graph,DD-22759  40.975046 -73.260620         NaN   18.8   \n",
       "924     US,US,reprt,DD-24912  40.948703 -73.202178         NaN   10.3   \n",
       "925    US,US,graph,BP-191410  41.029722 -73.171556         NaN   31.0   \n",
       "\n",
       "    sounding_type  yearsunk history             quasou  \\\n",
       "921           NaN       NaN     NaN  least depth known   \n",
       "922           NaN       NaN     NaN  least depth known   \n",
       "923           NaN       NaN     NaN  least depth known   \n",
       "924           NaN       NaN     NaN  least depth known   \n",
       "925           NaN       NaN     NaN  least depth known   \n",
       "\n",
       "                           watlev                    geometry  \n",
       "921  always under water/submerged  POINT (-73.18573 41.02295)  \n",
       "922  always under water/submerged  POINT (-73.17503 41.02914)  \n",
       "923  always under water/submerged  POINT (-73.26062 40.97505)  \n",
       "924  always under water/submerged  POINT (-73.20218 40.94870)  \n",
       "925  always under water/submerged  POINT (-73.17156 41.02972)  "
      ]
     },
     "execution_count": 10,
     "metadata": {},
     "output_type": "execute_result"
    }
   ],
   "source": [
    "# Create mask for points of ENC wrecks that fall in polygon\n",
    "in_extent = enc_wrecks['geometry'].within(enc_extent)\n",
    "\n",
    "# Update GeoDataFrame keeping only those points\n",
    "enc_wrecks = enc_wrecks[in_extent]\n",
    "enc_wrecks.head()"
   ]
  },
  {
   "cell_type": "code",
   "execution_count": 11,
   "metadata": {},
   "outputs": [
    {
     "data": {
      "text/plain": [
       "(1989, 14)"
      ]
     },
     "execution_count": 11,
     "metadata": {},
     "output_type": "execute_result"
    }
   ],
   "source": [
    "enc_wrecks.shape"
   ]
  },
  {
   "cell_type": "code",
   "execution_count": 12,
   "metadata": {},
   "outputs": [
    {
     "data": {
      "text/plain": [
       "Hen And Chickens         1\n",
       "Kerry Anne               1\n",
       "USCSS Robert J Walker    1\n",
       "F/V Creole Belle         1\n",
       "Name: vesslterms, dtype: int64"
      ]
     },
     "execution_count": 12,
     "metadata": {},
     "output_type": "execute_result"
    }
   ],
   "source": [
    "enc_wrecks['vesslterms'].value_counts()"
   ]
  },
  {
   "cell_type": "code",
   "execution_count": 13,
   "metadata": {},
   "outputs": [
    {
     "data": {
      "text/html": [
       "<div>\n",
       "<style scoped>\n",
       "    .dataframe tbody tr th:only-of-type {\n",
       "        vertical-align: middle;\n",
       "    }\n",
       "\n",
       "    .dataframe tbody tr th {\n",
       "        vertical-align: top;\n",
       "    }\n",
       "\n",
       "    .dataframe thead th {\n",
       "        text-align: right;\n",
       "    }\n",
       "</style>\n",
       "<table border=\"1\" class=\"dataframe\">\n",
       "  <thead>\n",
       "    <tr style=\"text-align: right;\">\n",
       "      <th></th>\n",
       "      <th>id</th>\n",
       "      <th>Name</th>\n",
       "      <th>descriptio</th>\n",
       "      <th>timestamp</th>\n",
       "      <th>begin</th>\n",
       "      <th>end</th>\n",
       "      <th>altitudeMo</th>\n",
       "      <th>tessellate</th>\n",
       "      <th>extrude</th>\n",
       "      <th>visibility</th>\n",
       "      <th>drawOrder</th>\n",
       "      <th>icon</th>\n",
       "      <th>gx_media_l</th>\n",
       "      <th>geometry</th>\n",
       "    </tr>\n",
       "  </thead>\n",
       "  <tbody>\n",
       "    <tr>\n",
       "      <th>0</th>\n",
       "      <td>73</td>\n",
       "      <td>BIELA</td>\n",
       "      <td>&lt;img src=\"https://doc-08-10-mymaps.googleuserc...</td>\n",
       "      <td>None</td>\n",
       "      <td>None</td>\n",
       "      <td>None</td>\n",
       "      <td>None</td>\n",
       "      <td>-1</td>\n",
       "      <td>0</td>\n",
       "      <td>-1</td>\n",
       "      <td>None</td>\n",
       "      <td>None</td>\n",
       "      <td>https://doc-08-10-mymaps.googleusercontent.com...</td>\n",
       "      <td>POINT Z (-70.91667 40.15000 0.00000)</td>\n",
       "    </tr>\n",
       "  </tbody>\n",
       "</table>\n",
       "</div>"
      ],
      "text/plain": [
       "   id   Name                                         descriptio timestamp  \\\n",
       "0  73  BIELA  <img src=\"https://doc-08-10-mymaps.googleuserc...      None   \n",
       "\n",
       "  begin   end altitudeMo  tessellate  extrude  visibility drawOrder  icon  \\\n",
       "0  None  None       None          -1        0          -1      None  None   \n",
       "\n",
       "                                          gx_media_l  \\\n",
       "0  https://doc-08-10-mymaps.googleusercontent.com...   \n",
       "\n",
       "                               geometry  \n",
       "0  POINT Z (-70.91667 40.15000 0.00000)  "
      ]
     },
     "execution_count": 13,
     "metadata": {},
     "output_type": "execute_result"
    }
   ],
   "source": [
    "# Read Biela shapefile into GeoDataFrames\n",
    "biela = gpd.read_file('./data/Biela/Biela.shp', driver='shapefile')\n",
    "\n",
    "biela.head()"
   ]
  },
  {
   "cell_type": "code",
   "execution_count": 14,
   "metadata": {},
   "outputs": [
    {
     "data": {
      "text/html": [
       "<div>\n",
       "<style scoped>\n",
       "    .dataframe tbody tr th:only-of-type {\n",
       "        vertical-align: middle;\n",
       "    }\n",
       "\n",
       "    .dataframe tbody tr th {\n",
       "        vertical-align: top;\n",
       "    }\n",
       "\n",
       "    .dataframe thead th {\n",
       "        text-align: right;\n",
       "    }\n",
       "</style>\n",
       "<table border=\"1\" class=\"dataframe\">\n",
       "  <thead>\n",
       "    <tr style=\"text-align: right;\">\n",
       "      <th></th>\n",
       "      <th>id</th>\n",
       "      <th>Name</th>\n",
       "      <th>descriptio</th>\n",
       "      <th>timestamp</th>\n",
       "      <th>begin</th>\n",
       "      <th>end</th>\n",
       "      <th>altitudeMo</th>\n",
       "      <th>tessellate</th>\n",
       "      <th>extrude</th>\n",
       "      <th>visibility</th>\n",
       "      <th>drawOrder</th>\n",
       "      <th>icon</th>\n",
       "      <th>gx_media_l</th>\n",
       "      <th>geometry</th>\n",
       "    </tr>\n",
       "  </thead>\n",
       "  <tbody>\n",
       "    <tr>\n",
       "      <th>0</th>\n",
       "      <td>73</td>\n",
       "      <td>BIELA</td>\n",
       "      <td>&lt;img src=\"https://doc-08-10-mymaps.googleuserc...</td>\n",
       "      <td>None</td>\n",
       "      <td>None</td>\n",
       "      <td>None</td>\n",
       "      <td>None</td>\n",
       "      <td>-1</td>\n",
       "      <td>0</td>\n",
       "      <td>-1</td>\n",
       "      <td>None</td>\n",
       "      <td>None</td>\n",
       "      <td>https://doc-08-10-mymaps.googleusercontent.com...</td>\n",
       "      <td>POINT (-70.91667 40.15000)</td>\n",
       "    </tr>\n",
       "  </tbody>\n",
       "</table>\n",
       "</div>"
      ],
      "text/plain": [
       "   id   Name                                         descriptio timestamp  \\\n",
       "0  73  BIELA  <img src=\"https://doc-08-10-mymaps.googleuserc...      None   \n",
       "\n",
       "  begin   end altitudeMo  tessellate  extrude  visibility drawOrder  icon  \\\n",
       "0  None  None       None          -1        0          -1      None  None   \n",
       "\n",
       "                                          gx_media_l  \\\n",
       "0  https://doc-08-10-mymaps.googleusercontent.com...   \n",
       "\n",
       "                     geometry  \n",
       "0  POINT (-70.91667 40.15000)  "
      ]
     },
     "execution_count": 14,
     "metadata": {},
     "output_type": "execute_result"
    }
   ],
   "source": [
    "# Convert geometry to 2D point to conform with other datasets\n",
    "#   Extra Z dimension is common when data originate from KML files\n",
    "biela.geometry = biela.geometry.map(lambda polygon: shapely.ops.transform(lambda x, y, z: (x, y), polygon))\n",
    "\n",
    "biela.head()"
   ]
  },
  {
   "cell_type": "markdown",
   "metadata": {},
   "source": [
    "## Check and Convert Coordinate Reference Systems\n",
    "\n",
    "When combining geospatial datasets, the coordinate reference systems for each set must match (otherwise, you'll introduce error). Geopandas makes checking the CRS easy with the `.crs` attribute, which displays the EPSG code for that GeoDataFrame's CRS. The AWOIS datasets both have coordinates in NAD83 (EPSG code `4269`) and the ENC dataset uses WGS84 (EPSG `4326`), which is a common CRS for web data.\n",
    "\n",
    "All analysis done in the rest of the notebook will be mapped with folium, which assumes datasets are in WGS84, so all GeoDataFrames are converted to this CRS. Web tile providers typically use the spherical mercator (aka web mercator, EPSG code `3857`) projection, but folium does the projection conversion under the hood automatically for you, so it's not necessary to layer the projection onto the dataset coordinates.\n",
    "\n",
    "The [Spatial Reference website](www.spatialreference.org) is a good resource to look up EPSG codes."
   ]
  },
  {
   "cell_type": "code",
   "execution_count": 15,
   "metadata": {},
   "outputs": [
    {
     "data": {
      "text/plain": [
       "<Geographic 2D CRS: EPSG:4269>\n",
       "Name: NAD83\n",
       "Axis Info [ellipsoidal]:\n",
       "- Lat[north]: Geodetic latitude (degree)\n",
       "- Lon[east]: Geodetic longitude (degree)\n",
       "Area of Use:\n",
       "- name: North America - NAD83\n",
       "- bounds: (167.65, 14.92, -47.74, 86.46)\n",
       "Datum: North American Datum 1983\n",
       "- Ellipsoid: GRS 1980\n",
       "- Prime Meridian: Greenwich"
      ]
     },
     "execution_count": 15,
     "metadata": {},
     "output_type": "execute_result"
    }
   ],
   "source": [
    "awois_wrecks.crs"
   ]
  },
  {
   "cell_type": "code",
   "execution_count": 16,
   "metadata": {},
   "outputs": [
    {
     "data": {
      "text/plain": [
       "'degree'"
      ]
     },
     "execution_count": 16,
     "metadata": {},
     "output_type": "execute_result"
    }
   ],
   "source": [
    "# Check the units the CRS uses\n",
    "awois_wrecks.crs.axis_info[0].unit_name"
   ]
  },
  {
   "cell_type": "code",
   "execution_count": 17,
   "metadata": {},
   "outputs": [
    {
     "data": {
      "text/plain": [
       "<Geographic 2D CRS: EPSG:4269>\n",
       "Name: NAD83\n",
       "Axis Info [ellipsoidal]:\n",
       "- Lat[north]: Geodetic latitude (degree)\n",
       "- Lon[east]: Geodetic longitude (degree)\n",
       "Area of Use:\n",
       "- name: North America - NAD83\n",
       "- bounds: (167.65, 14.92, -47.74, 86.46)\n",
       "Datum: North American Datum 1983\n",
       "- Ellipsoid: GRS 1980\n",
       "- Prime Meridian: Greenwich"
      ]
     },
     "execution_count": 17,
     "metadata": {},
     "output_type": "execute_result"
    }
   ],
   "source": [
    "awois_obs.crs"
   ]
  },
  {
   "cell_type": "code",
   "execution_count": 18,
   "metadata": {},
   "outputs": [
    {
     "data": {
      "text/plain": [
       "<Geographic 2D CRS: EPSG:4326>\n",
       "Name: WGS 84\n",
       "Axis Info [ellipsoidal]:\n",
       "- Lat[north]: Geodetic latitude (degree)\n",
       "- Lon[east]: Geodetic longitude (degree)\n",
       "Area of Use:\n",
       "- name: World\n",
       "- bounds: (-180.0, -90.0, 180.0, 90.0)\n",
       "Datum: World Geodetic System 1984\n",
       "- Ellipsoid: WGS 84\n",
       "- Prime Meridian: Greenwich"
      ]
     },
     "execution_count": 18,
     "metadata": {},
     "output_type": "execute_result"
    }
   ],
   "source": [
    "enc_wrecks.crs"
   ]
  },
  {
   "cell_type": "code",
   "execution_count": 19,
   "metadata": {},
   "outputs": [
    {
     "data": {
      "text/plain": [
       "'degree'"
      ]
     },
     "execution_count": 19,
     "metadata": {},
     "output_type": "execute_result"
    }
   ],
   "source": [
    "# Check the units the CRS uses\n",
    "enc_wrecks.crs.axis_info[0].unit_name"
   ]
  },
  {
   "cell_type": "code",
   "execution_count": 20,
   "metadata": {},
   "outputs": [
    {
     "data": {
      "text/plain": [
       "<Geographic 2D CRS: EPSG:4326>\n",
       "Name: WGS 84\n",
       "Axis Info [ellipsoidal]:\n",
       "- Lat[north]: Geodetic latitude (degree)\n",
       "- Lon[east]: Geodetic longitude (degree)\n",
       "Area of Use:\n",
       "- name: World\n",
       "- bounds: (-180.0, -90.0, 180.0, 90.0)\n",
       "Datum: World Geodetic System 1984\n",
       "- Ellipsoid: WGS 84\n",
       "- Prime Meridian: Greenwich"
      ]
     },
     "execution_count": 20,
     "metadata": {},
     "output_type": "execute_result"
    }
   ],
   "source": [
    "biela.crs"
   ]
  },
  {
   "cell_type": "code",
   "execution_count": 21,
   "metadata": {},
   "outputs": [
    {
     "name": "stdout",
     "output_type": "stream",
     "text": [
      "AWOIS Wrecks CRS: epsg:4326\n",
      "AWOIS Obstructions CRS: epsg:4326\n",
      "ENC Wrecks CRS: EPSG:4326\n",
      "Biela Wreck CRS: epsg:4326\n"
     ]
    }
   ],
   "source": [
    "# Convert AWOIS datasets from NAD83 to WGS84\n",
    "\n",
    "# Alternatives: gdf.crs = 'EPSG:4326' or gdf.to_crs('EPSG:4326', inplace=True)\n",
    "awois_wrecks.to_crs(epsg=4326, inplace=True)\n",
    "awois_obs.to_crs(epsg=4326, inplace=True)\n",
    "\n",
    "# Confirm the conversion worked and all CRSs are same\n",
    "print('AWOIS Wrecks CRS: {}'.format(awois_wrecks.crs))\n",
    "print('AWOIS Obstructions CRS: {}'.format(awois_obs.crs))\n",
    "print('ENC Wrecks CRS: {}'.format(enc_wrecks.crs))\n",
    "print('Biela Wreck CRS: {}'.format(biela.crs))"
   ]
  },
  {
   "cell_type": "markdown",
   "metadata": {},
   "source": [
    "## Combine and Clean Datasets\n",
    "\n",
    "Some light data cleaning to create a feature that categorizes each type of object in order to color the data points in the map. It also separates all the data into two GeoDataFrames by whether the object is identified / visible or not.\n",
    "\n",
    "- Consolidate the `VESSLTERMS` values in the AWOIS datasets into new column `OBJTYPE`, adding a `KNOWN WRECK` label for low count values that appear to be a name of a vessel\n",
    "- Add `OBJTYPE` column to ENC dataset and label visible wrecks as `KNOWN WRECK`, everything else as `UNKNOWN`\n",
    "- Save all known/visible wrecks into separate GeoDataFrame\n",
    "- Combine everything else into an unknown object GeoDataFrame"
   ]
  },
  {
   "cell_type": "code",
   "execution_count": 22,
   "metadata": {},
   "outputs": [
    {
     "data": {
      "text/plain": [
       "UNKNOWN                 1012\n",
       "WRECK                    160\n",
       "OBSTRUCTION                5\n",
       "SHINNECOCK                 4\n",
       "YANKEE                     3\n",
       "                        ... \n",
       "DUAL BARGES WRECK          1\n",
       "BERANGER                   1\n",
       "BIG O                      1\n",
       "ORMOND                     1\n",
       "CHARLIES LAST CHANCE       1\n",
       "Name: VESSLTERMS, Length: 567, dtype: int64"
      ]
     },
     "execution_count": 22,
     "metadata": {},
     "output_type": "execute_result"
    }
   ],
   "source": [
    "awois_wrecks['VESSLTERMS'].value_counts()"
   ]
  },
  {
   "cell_type": "code",
   "execution_count": 23,
   "metadata": {},
   "outputs": [
    {
     "data": {
      "text/plain": [
       "OBSTRUCTION    1207\n",
       "FISH HAVEN        6\n",
       "UNKNOWN           4\n",
       "DUMP SITE         1\n",
       "Name: VESSLTERMS, dtype: int64"
      ]
     },
     "execution_count": 23,
     "metadata": {},
     "output_type": "execute_result"
    }
   ],
   "source": [
    "awois_obs['VESSLTERMS'].value_counts()"
   ]
  },
  {
   "cell_type": "code",
   "execution_count": 24,
   "metadata": {},
   "outputs": [],
   "source": [
    "# Helper function to consolidate categories for AWOIS datasets\n",
    "def obj_cat_awois(row):\n",
    "    \"\"\"\n",
    "    Retains `VESSLTERMS` values for main categories, replaces low-count\n",
    "        ones with `KNOWN WRECK` (assumes the value was the name of\n",
    "        the vessel).\n",
    "\n",
    "    :param row: row of GeoDataFrame with a `VESSLTERMS` column that\n",
    "        contains a string describing the vessel\n",
    "    :return: str of what that row's new, consolidated category is\n",
    "    \n",
    "    >>>gdf['consol_cats'] = gdf.apply(obj_cat_awois, axis=1)\n",
    "    \"\"\"\n",
    "    cat = row['VESSLTERMS']\n",
    "    \n",
    "    if cat in ['UNKNOWN', 'WRECK', 'OBSTRUCTION', 'FISH HAVEN', 'DUMP SITE']:\n",
    "        return cat\n",
    "    else:\n",
    "        return 'KNOWN WRECK'\n",
    "\n",
    "awois_wrecks['OBJTYPE'] = awois_wrecks.apply(obj_cat_awois, axis=1)\n",
    "awois_obs['OBJTYPE'] = awois_obs.apply(obj_cat_awois, axis=1)"
   ]
  },
  {
   "cell_type": "code",
   "execution_count": 25,
   "metadata": {},
   "outputs": [
    {
     "data": {
      "text/plain": [
       "UNKNOWN        1012\n",
       "KNOWN WRECK     593\n",
       "WRECK           160\n",
       "OBSTRUCTION       5\n",
       "FISH HAVEN        1\n",
       "Name: OBJTYPE, dtype: int64"
      ]
     },
     "execution_count": 25,
     "metadata": {},
     "output_type": "execute_result"
    }
   ],
   "source": [
    "awois_wrecks['OBJTYPE'].value_counts()"
   ]
  },
  {
   "cell_type": "code",
   "execution_count": 26,
   "metadata": {},
   "outputs": [
    {
     "data": {
      "text/plain": [
       "OBSTRUCTION    1207\n",
       "FISH HAVEN        6\n",
       "UNKNOWN           4\n",
       "DUMP SITE         1\n",
       "Name: OBJTYPE, dtype: int64"
      ]
     },
     "execution_count": 26,
     "metadata": {},
     "output_type": "execute_result"
    }
   ],
   "source": [
    "awois_obs['OBJTYPE'].value_counts()"
   ]
  },
  {
   "cell_type": "code",
   "execution_count": 27,
   "metadata": {},
   "outputs": [
    {
     "data": {
      "text/plain": [
       "Wrecks - Submerged, dangerous       1204\n",
       "Wrecks - Submerged, nondangerous     519\n",
       "Wrecks - Visible                     257\n",
       "distributed remains of wreck           5\n",
       "Name: feature_type, dtype: int64"
      ]
     },
     "execution_count": 27,
     "metadata": {},
     "output_type": "execute_result"
    }
   ],
   "source": [
    "enc_wrecks['feature_type'].value_counts()"
   ]
  },
  {
   "cell_type": "code",
   "execution_count": 28,
   "metadata": {},
   "outputs": [
    {
     "data": {
      "text/plain": [
       "Hen And Chickens         1\n",
       "Kerry Anne               1\n",
       "USCSS Robert J Walker    1\n",
       "F/V Creole Belle         1\n",
       "Name: vesslterms, dtype: int64"
      ]
     },
     "execution_count": 28,
     "metadata": {},
     "output_type": "execute_result"
    }
   ],
   "source": [
    "enc_wrecks['vesslterms'].value_counts()"
   ]
  },
  {
   "cell_type": "code",
   "execution_count": 29,
   "metadata": {},
   "outputs": [],
   "source": [
    "# Helper function to create categories for ENC dataset\n",
    "def obj_cat_enc(row):\n",
    "    \"\"\"\n",
    "    Creates two categories of vessel: `KNOWN WRECK` is for visible\n",
    "        wrecks or for ones that have a name in the `vesslterms` column,\n",
    "        `WRECK` is for everything else.\n",
    "        \n",
    "    :param row: row of GeoDataFrame with both `feature_type` and`vesslterms`\n",
    "        columns\n",
    "    :return: str of what that row's new category is\n",
    "    \n",
    "    >>>gdf['consol_cats'] = gdf.apply(obj_cat_enc, axis=1)\n",
    "    \"\"\"\n",
    "    if (row['feature_type'] == 'Wrecks - Visible') or (type(row['vesslterms']) is str):\n",
    "        return 'KNOWN WRECK'\n",
    "    else:\n",
    "        return 'WRECK'\n",
    "\n",
    "enc_wrecks['OBJTYPE'] = enc_wrecks.apply(obj_cat_enc, axis=1)"
   ]
  },
  {
   "cell_type": "code",
   "execution_count": 30,
   "metadata": {},
   "outputs": [
    {
     "data": {
      "text/plain": [
       "WRECK          1728\n",
       "KNOWN WRECK     261\n",
       "Name: OBJTYPE, dtype: int64"
      ]
     },
     "execution_count": 30,
     "metadata": {},
     "output_type": "execute_result"
    }
   ],
   "source": [
    "enc_wrecks['OBJTYPE'].value_counts()"
   ]
  },
  {
   "cell_type": "code",
   "execution_count": 31,
   "metadata": {},
   "outputs": [],
   "source": [
    "# Add key column to track where rows came from before combining\n",
    "awois_wrecks['IDX'] = ['AWW_{}'.format(n) for n in range(1, awois_wrecks.shape[0] + 1)]\n",
    "awois_obs['IDX'] = ['AWO_{}'.format(n) for n in range(1, awois_obs.shape[0] + 1)]\n",
    "enc_wrecks['IDX'] = ['ENC_{}'.format(n) for n in range(1, enc_wrecks.shape[0] + 1)]"
   ]
  },
  {
   "cell_type": "code",
   "execution_count": 32,
   "metadata": {},
   "outputs": [
    {
     "name": "stdout",
     "output_type": "stream",
     "text": [
      "Index(['RECRD', 'VESSLTERMS', 'AREA_ID', 'CHART', 'LATDEC', 'LONDEC',\n",
      "       'GP_QUALITY', 'GP_SOURCE', 'DEPTH', 'SOUNDING_T', 'YEARSUNK', 'HISTORY',\n",
      "       'REFERENCE', 'geometry', 'OBJTYPE', 'IDX'],\n",
      "      dtype='object')\n",
      "Index(['RECRD', 'VESSLTERMS', 'AREA_ID', 'CHART', 'LATDEC', 'LONDEC',\n",
      "       'GP_QUALITY', 'GP_SOURCE', 'DEPTH', 'SOUNDING_T', 'YEARSUNK', 'HISTORY',\n",
      "       'REFERENCE', 'geometry', 'OBJTYPE', 'IDX'],\n",
      "      dtype='object')\n",
      "Index(['recrd', 'vesslterms', 'feature_type', 'chart', 'latdec', 'londec',\n",
      "       'gp_quality', 'depth', 'sounding_type', 'yearsunk', 'history', 'quasou',\n",
      "       'watlev', 'geometry', 'OBJTYPE', 'IDX'],\n",
      "      dtype='object')\n"
     ]
    }
   ],
   "source": [
    "print(awois_wrecks.columns)\n",
    "print(awois_obs.columns)\n",
    "print(enc_wrecks.columns)"
   ]
  },
  {
   "cell_type": "code",
   "execution_count": 33,
   "metadata": {},
   "outputs": [
    {
     "data": {
      "text/html": [
       "<div>\n",
       "<style scoped>\n",
       "    .dataframe tbody tr th:only-of-type {\n",
       "        vertical-align: middle;\n",
       "    }\n",
       "\n",
       "    .dataframe tbody tr th {\n",
       "        vertical-align: top;\n",
       "    }\n",
       "\n",
       "    .dataframe thead th {\n",
       "        text-align: right;\n",
       "    }\n",
       "</style>\n",
       "<table border=\"1\" class=\"dataframe\">\n",
       "  <thead>\n",
       "    <tr style=\"text-align: right;\">\n",
       "      <th></th>\n",
       "      <th>IDX</th>\n",
       "      <th>OBJTYPE</th>\n",
       "      <th>geometry</th>\n",
       "    </tr>\n",
       "  </thead>\n",
       "  <tbody>\n",
       "    <tr>\n",
       "      <th>0</th>\n",
       "      <td>AWW_28</td>\n",
       "      <td>KNOWN WRECK</td>\n",
       "      <td>POINT (-74.21987 39.32651)</td>\n",
       "    </tr>\n",
       "    <tr>\n",
       "      <th>1</th>\n",
       "      <td>AWW_30</td>\n",
       "      <td>KNOWN WRECK</td>\n",
       "      <td>POINT (-72.48330 40.83331)</td>\n",
       "    </tr>\n",
       "    <tr>\n",
       "      <th>2</th>\n",
       "      <td>AWW_31</td>\n",
       "      <td>KNOWN WRECK</td>\n",
       "      <td>POINT (-74.29959 39.25012)</td>\n",
       "    </tr>\n",
       "    <tr>\n",
       "      <th>3</th>\n",
       "      <td>AWW_40</td>\n",
       "      <td>KNOWN WRECK</td>\n",
       "      <td>POINT (-74.56627 38.90012)</td>\n",
       "    </tr>\n",
       "    <tr>\n",
       "      <th>4</th>\n",
       "      <td>AWW_43</td>\n",
       "      <td>KNOWN WRECK</td>\n",
       "      <td>POINT (-74.50172 39.11655)</td>\n",
       "    </tr>\n",
       "  </tbody>\n",
       "</table>\n",
       "</div>"
      ],
      "text/plain": [
       "      IDX      OBJTYPE                    geometry\n",
       "0  AWW_28  KNOWN WRECK  POINT (-74.21987 39.32651)\n",
       "1  AWW_30  KNOWN WRECK  POINT (-72.48330 40.83331)\n",
       "2  AWW_31  KNOWN WRECK  POINT (-74.29959 39.25012)\n",
       "3  AWW_40  KNOWN WRECK  POINT (-74.56627 38.90012)\n",
       "4  AWW_43  KNOWN WRECK  POINT (-74.50172 39.11655)"
      ]
     },
     "execution_count": 33,
     "metadata": {},
     "output_type": "execute_result"
    }
   ],
   "source": [
    "# Combine known wrecks into one dataset\n",
    "cols = ['IDX', 'OBJTYPE', 'geometry']\n",
    "\n",
    "known_wrecks = awois_wrecks[awois_wrecks['OBJTYPE'] == 'KNOWN WRECK'][cols].append(\n",
    "                   enc_wrecks[enc_wrecks['OBJTYPE'] == 'KNOWN WRECK'][cols],\n",
    "                   ignore_index=True)\n",
    "\n",
    "known_wrecks.head()"
   ]
  },
  {
   "cell_type": "code",
   "execution_count": 34,
   "metadata": {},
   "outputs": [
    {
     "data": {
      "text/plain": [
       "KNOWN WRECK    854\n",
       "Name: OBJTYPE, dtype: int64"
      ]
     },
     "execution_count": 34,
     "metadata": {},
     "output_type": "execute_result"
    }
   ],
   "source": [
    "known_wrecks['OBJTYPE'].value_counts()"
   ]
  },
  {
   "cell_type": "code",
   "execution_count": 35,
   "metadata": {},
   "outputs": [
    {
     "data": {
      "text/html": [
       "<div>\n",
       "<style scoped>\n",
       "    .dataframe tbody tr th:only-of-type {\n",
       "        vertical-align: middle;\n",
       "    }\n",
       "\n",
       "    .dataframe tbody tr th {\n",
       "        vertical-align: top;\n",
       "    }\n",
       "\n",
       "    .dataframe thead th {\n",
       "        text-align: right;\n",
       "    }\n",
       "</style>\n",
       "<table border=\"1\" class=\"dataframe\">\n",
       "  <thead>\n",
       "    <tr style=\"text-align: right;\">\n",
       "      <th></th>\n",
       "      <th>IDX</th>\n",
       "      <th>OBJTYPE</th>\n",
       "      <th>geometry</th>\n",
       "    </tr>\n",
       "  </thead>\n",
       "  <tbody>\n",
       "    <tr>\n",
       "      <th>0</th>\n",
       "      <td>AWW_1</td>\n",
       "      <td>WRECK</td>\n",
       "      <td>POINT (-74.04772 40.56711)</td>\n",
       "    </tr>\n",
       "    <tr>\n",
       "      <th>1</th>\n",
       "      <td>AWW_2</td>\n",
       "      <td>UNKNOWN</td>\n",
       "      <td>POINT (-74.83514 38.84597)</td>\n",
       "    </tr>\n",
       "    <tr>\n",
       "      <th>2</th>\n",
       "      <td>AWW_3</td>\n",
       "      <td>UNKNOWN</td>\n",
       "      <td>POINT (-73.08025 40.61833)</td>\n",
       "    </tr>\n",
       "    <tr>\n",
       "      <th>3</th>\n",
       "      <td>AWW_4</td>\n",
       "      <td>UNKNOWN</td>\n",
       "      <td>POINT (-74.85520 38.92895)</td>\n",
       "    </tr>\n",
       "    <tr>\n",
       "      <th>4</th>\n",
       "      <td>AWW_5</td>\n",
       "      <td>UNKNOWN</td>\n",
       "      <td>POINT (-74.81412 38.90329)</td>\n",
       "    </tr>\n",
       "  </tbody>\n",
       "</table>\n",
       "</div>"
      ],
      "text/plain": [
       "     IDX  OBJTYPE                    geometry\n",
       "0  AWW_1    WRECK  POINT (-74.04772 40.56711)\n",
       "1  AWW_2  UNKNOWN  POINT (-74.83514 38.84597)\n",
       "2  AWW_3  UNKNOWN  POINT (-73.08025 40.61833)\n",
       "3  AWW_4  UNKNOWN  POINT (-74.85520 38.92895)\n",
       "4  AWW_5  UNKNOWN  POINT (-74.81412 38.90329)"
      ]
     },
     "execution_count": 35,
     "metadata": {},
     "output_type": "execute_result"
    }
   ],
   "source": [
    "# Combine everything unknown into another dataset\n",
    "unknown = awois_wrecks[awois_wrecks['OBJTYPE'] != 'KNOWN WRECK'][cols].append(\n",
    "              awois_obs[cols],\n",
    "              ignore_index=True).append(\n",
    "                  enc_wrecks[enc_wrecks['OBJTYPE'] != 'KNOWN WRECK'][cols],\n",
    "                  ignore_index=True)\n",
    "\n",
    "unknown.head()"
   ]
  },
  {
   "cell_type": "code",
   "execution_count": 36,
   "metadata": {},
   "outputs": [
    {
     "data": {
      "text/plain": [
       "WRECK          1888\n",
       "OBSTRUCTION    1212\n",
       "UNKNOWN        1016\n",
       "FISH HAVEN        7\n",
       "DUMP SITE         1\n",
       "Name: OBJTYPE, dtype: int64"
      ]
     },
     "execution_count": 36,
     "metadata": {},
     "output_type": "execute_result"
    }
   ],
   "source": [
    "unknown['OBJTYPE'].value_counts()"
   ]
  },
  {
   "cell_type": "code",
   "execution_count": 37,
   "metadata": {},
   "outputs": [
    {
     "data": {
      "text/plain": [
       "True"
      ]
     },
     "execution_count": 37,
     "metadata": {},
     "output_type": "execute_result"
    }
   ],
   "source": [
    "# Check that re-configured GDFs have same shape as originals\n",
    "awois_wrecks.shape[0] + awois_obs.shape[0] + enc_wrecks.shape[0] == known_wrecks.shape[0] + unknown.shape[0]"
   ]
  },
  {
   "cell_type": "markdown",
   "metadata": {},
   "source": [
    "## Generate Simulated Data for Other Obstructions"
   ]
  },
  {
   "cell_type": "code",
   "execution_count": 38,
   "metadata": {},
   "outputs": [],
   "source": [
    "# Set random seed\n",
    "np.random.seed(42)\n",
    "\n",
    "n = 100\n",
    "\n",
    "# Generate uniformly distributed x, y values over different areas\n",
    "lon_vals = np.concatenate((np.random.uniform(-72.9, -71.9, size=n),\n",
    "                           np.random.uniform(-71.98, -70.57, size=2*n),\n",
    "                           np.random.uniform(-71.22, -70.62, size=n),\n",
    "                           np.random.uniform(-70.58, -69.6, size=n)))\n",
    "lat_vals = np.concatenate((np.random.uniform(39.6, 40.7, size=n),\n",
    "                           np.random.uniform(39.8, 40.97, size=2*n),\n",
    "                           np.random.uniform(39.85, 40.45, size=n),\n",
    "                           np.random.uniform(39.9, 41.05, size=n)))\n",
    "\n",
    "# Zip coordinates together as Points\n",
    "simu_points = [shapely.geometry.Point(lon, lat) for lon, lat in zip(lon_vals, lat_vals)]\n",
    "\n",
    "# Insert actual ship location\n",
    "simu_points.insert(9, biela.loc[0, 'geometry'])"
   ]
  },
  {
   "cell_type": "code",
   "execution_count": 39,
   "metadata": {},
   "outputs": [
    {
     "name": "stdout",
     "output_type": "stream",
     "text": [
      "(501, 3)\n"
     ]
    },
    {
     "data": {
      "text/html": [
       "<div>\n",
       "<style scoped>\n",
       "    .dataframe tbody tr th:only-of-type {\n",
       "        vertical-align: middle;\n",
       "    }\n",
       "\n",
       "    .dataframe tbody tr th {\n",
       "        vertical-align: top;\n",
       "    }\n",
       "\n",
       "    .dataframe thead th {\n",
       "        text-align: right;\n",
       "    }\n",
       "</style>\n",
       "<table border=\"1\" class=\"dataframe\">\n",
       "  <thead>\n",
       "    <tr style=\"text-align: right;\">\n",
       "      <th></th>\n",
       "      <th>geometry</th>\n",
       "      <th>IDX</th>\n",
       "      <th>OBJTYPE</th>\n",
       "    </tr>\n",
       "  </thead>\n",
       "  <tbody>\n",
       "    <tr>\n",
       "      <th>0</th>\n",
       "      <td>POINT (-72.52546 40.36798)</td>\n",
       "      <td>SIM_1</td>\n",
       "      <td>UNKNOWN</td>\n",
       "    </tr>\n",
       "    <tr>\n",
       "      <th>1</th>\n",
       "      <td>POINT (-71.94929 40.18971)</td>\n",
       "      <td>SIM_2</td>\n",
       "      <td>UNKNOWN</td>\n",
       "    </tr>\n",
       "    <tr>\n",
       "      <th>2</th>\n",
       "      <td>POINT (-72.16801 39.94048)</td>\n",
       "      <td>SIM_3</td>\n",
       "      <td>UNKNOWN</td>\n",
       "    </tr>\n",
       "    <tr>\n",
       "      <th>3</th>\n",
       "      <td>POINT (-72.30134 40.49517)</td>\n",
       "      <td>SIM_4</td>\n",
       "      <td>UNKNOWN</td>\n",
       "    </tr>\n",
       "    <tr>\n",
       "      <th>4</th>\n",
       "      <td>POINT (-72.74398 40.35320)</td>\n",
       "      <td>SIM_5</td>\n",
       "      <td>UNKNOWN</td>\n",
       "    </tr>\n",
       "  </tbody>\n",
       "</table>\n",
       "</div>"
      ],
      "text/plain": [
       "                     geometry    IDX  OBJTYPE\n",
       "0  POINT (-72.52546 40.36798)  SIM_1  UNKNOWN\n",
       "1  POINT (-71.94929 40.18971)  SIM_2  UNKNOWN\n",
       "2  POINT (-72.16801 39.94048)  SIM_3  UNKNOWN\n",
       "3  POINT (-72.30134 40.49517)  SIM_4  UNKNOWN\n",
       "4  POINT (-72.74398 40.35320)  SIM_5  UNKNOWN"
      ]
     },
     "execution_count": 39,
     "metadata": {},
     "output_type": "execute_result"
    }
   ],
   "source": [
    "# Create GeoDataFrame of simulated points\n",
    "simu_obs = gpd.GeoDataFrame(simu_points, columns=['geometry'], crs='EPSG:4326')\n",
    "\n",
    "# Add columns to match other GeoDataFrames\n",
    "simu_obs['IDX'] = ['SIM_{}'.format(n) for n in range(1, simu_obs.shape[0] + 1)]\n",
    "simu_obs['OBJTYPE'] = 'UNKNOWN'\n",
    "\n",
    "print(simu_obs.shape)\n",
    "simu_obs.head()"
   ]
  },
  {
   "cell_type": "markdown",
   "metadata": {},
   "source": [
    "## Helper Functions for Mapping Data"
   ]
  },
  {
   "cell_type": "code",
   "execution_count": 40,
   "metadata": {},
   "outputs": [],
   "source": [
    "# Helper function to display a folium map in Jupyter notebook\n",
    "def display_map(m, filename):\n",
    "    \"\"\"\n",
    "    Helper code to ensure the folium map will display\n",
    "        in different browsers when viewing the Jupyter\n",
    "        notebook.\n",
    "    Side effect: saves a local copy of the HTML version\n",
    "        of the map.\n",
    "    \n",
    "    :param m: a folium map\n",
    "    :param filename: str for map filename to save a copy locally\n",
    "    :return: IFrame object displaying the saved map\n",
    "    \"\"\"\n",
    "    from IPython.display import IFrame\n",
    "    m.save(filename)\n",
    "    return (IFrame(filename,\n",
    "                   width='100%',\n",
    "                   height='500px'))\n"
   ]
  },
  {
   "cell_type": "code",
   "execution_count": 59,
   "metadata": {},
   "outputs": [],
   "source": [
    "# Helper function to instantiate a generic folium.Map\n",
    "\n",
    "def make_map(layers=None, location=[40.5, -71.5], zoom_start=8):\n",
    "    \"\"\"\n",
    "    Creates a folium.Map object with consistent parameters\n",
    "        to use as basemap for all maps in notebook\n",
    "\n",
    "    :param layers: list or None, layers to add to map. Default\n",
    "        is None\n",
    "    :return: folium.Map object\n",
    "    \"\"\"\n",
    "\n",
    "    m = folium.Map(location=location,\n",
    "                   tiles=\"stamenterrain\",\n",
    "                   zoom_start=zoom_start)\n",
    "    \n",
    "    if layers is not None:\n",
    "        for l in layers:\n",
    "            m.add_child(l)\n",
    "\n",
    "    return m"
   ]
  },
  {
   "cell_type": "code",
   "execution_count": 42,
   "metadata": {},
   "outputs": [],
   "source": [
    "# Helper function to color map points differently by object type\n",
    "def color_obj(objtype):\n",
    "    \"\"\"\n",
    "    Assigns color brewer qualitative scheme to objects\n",
    "        depending on the type.\n",
    "    :param obj: str, category of object type\n",
    "    :return: str, hexcode for map icon color\n",
    "    \"\"\"\n",
    "    labels = ['KNOWN WRECK',\n",
    "              'WRECK',\n",
    "              'OBSTRUCTION',\n",
    "              'FISH HAVEN',\n",
    "              'DUMP SITE',\n",
    "              'UNKNOWN']\n",
    "\n",
    "    colors = ['#bf5b17',  # brown\n",
    "              '#bf5b17',  # brown\n",
    "              '#ffff99',  # yellow\n",
    "              '#7fc97f',  # green\n",
    "              '#f0027f',  # hot pink\n",
    "              '#666666']  # grey\n",
    "\n",
    "    color_dict = dict(zip(labels, colors))\n",
    "    return color_dict.get(objtype, '#666666')"
   ]
  },
  {
   "cell_type": "code",
   "execution_count": 43,
   "metadata": {},
   "outputs": [],
   "source": [
    "# Helper function to create and return a FeatureGroup of circles\n",
    "#    (This enables functionality on folium map to toggle whether\n",
    "#    a FeatureGroup layer is visible or not)\n",
    "def create_featuregroup(gdf, fgname):\n",
    "    \"\"\"\n",
    "    Creates a folium FeatureGroup with given `fgname`, then iterates\n",
    "        over given GeoDataFrame (`gdf`) to create and add folium.Circle\n",
    "        markers to the FeatureGroup. Returns the FeatureGroup\n",
    "    \n",
    "    :param gdf: a GeoDataFrame, must have `OBJTYPE` column for color\n",
    "        function to work\n",
    "    :param fgname: str, the name for the FeatureGroup\n",
    "    :return: folium.FeatureGroup object\n",
    "    \"\"\"\n",
    "    # Create the FeatureGroup\n",
    "    fg = folium.FeatureGroup(name=fgname,\n",
    "                             overlay=True,\n",
    "                             control=True,\n",
    "                             show=True)\n",
    "\n",
    "    # Iterate over GeoDataFrame, create circles for each row, add to FeatureGroup\n",
    "    for idx, row in gdf.iterrows():\n",
    "        lat = row['geometry'].y\n",
    "        lon = row['geometry'].x\n",
    "        folium.Circle(location=[lat, lon],\n",
    "                      radius=10,\n",
    "                      color=color_obj(row['OBJTYPE'])).add_to(fg)\n",
    "\n",
    "    return fg"
   ]
  },
  {
   "cell_type": "code",
   "execution_count": 44,
   "metadata": {},
   "outputs": [],
   "source": [
    "# Helper function for meter-nautical mile conversions\n",
    "\n",
    "NM_CONVERSION = 0.0005399565\n",
    "\n",
    "def nm_to_m(nm):\n",
    "    \"\"\"\n",
    "    Converts nautical miles to meters\n",
    "    \n",
    "    :param nm: float, nautical miles\n",
    "    :return: float\n",
    "    \"\"\"\n",
    "    return nm / NM_CONVERSION\n",
    "\n",
    "def m_to_nm(m):\n",
    "    \"\"\"\n",
    "    Converts nautical miles to meters\n",
    "    \n",
    "    :param nm: float, nautical miles\n",
    "    :return: float\n",
    "    \"\"\"\n",
    "    return m * NM_CONVERSION"
   ]
  },
  {
   "cell_type": "markdown",
   "metadata": {},
   "source": [
    "## The Search Begins"
   ]
  },
  {
   "cell_type": "code",
   "execution_count": 45,
   "metadata": {},
   "outputs": [],
   "source": [
    "# Create a FeatureGroup of colored circles for known wrecks\n",
    "#    and uknown objects that will be plotted for all maps\n",
    "unk_layer = create_featuregroup(unknown, 'Unknown Objs')\n",
    "kwn_layer = create_featuregroup(known_wrecks, 'Known Wrecks')\n",
    "simu_layer = create_featuregroup(simu_obs, 'Simulated Objs')\n",
    "layers_all = [unk_layer, kwn_layer, simu_layer]"
   ]
  },
  {
   "cell_type": "code",
   "execution_count": 60,
   "metadata": {},
   "outputs": [
    {
     "data": {
      "text/html": [
       "\n",
       "        <iframe\n",
       "            width=\"100%\"\n",
       "            height=\"500px\"\n",
       "            src=\"m_1.html\"\n",
       "            frameborder=\"0\"\n",
       "            allowfullscreen\n",
       "            \n",
       "        ></iframe>\n",
       "        "
      ],
      "text/plain": [
       "<IPython.lib.display.IFrame at 0x17da197f0>"
      ]
     },
     "execution_count": 60,
     "metadata": {},
     "output_type": "execute_result"
    }
   ],
   "source": [
    "# Create a map of obstructions\n",
    "\n",
    "# Default latitude and longitude to center the map\n",
    "start_lat = 40.5\n",
    "start_lon = -71.5\n",
    "\n",
    "m = make_map(layers=layers_all, location=[start_lat, start_lon])\n",
    "\n",
    "# Add LayerControl to toggle layers on/off \n",
    "folium.LayerControl(collapsed=False).add_to(m)\n",
    "\n",
    "# Display map\n",
    "display_map(m, 'm_1.html')"
   ]
  },
  {
   "cell_type": "markdown",
   "metadata": {},
   "source": [
    "### Establish Search Area Given Two Estimated Locations of Collision"
   ]
  },
  {
   "cell_type": "markdown",
   "metadata": {},
   "source": [
    "The original estimate of where the collision happened came from insurance archival holdings, but conflicting press reports left a lot of uncertainty. This resulted in an excessively large search area, and combined with the collision happening in deep waters, made the search difficult for a long time. However, further research uncovered a legal claim where the captains of both vessels gave location information about the collision, which were within 11 nautical miles of each other, thus greatly reducing the search area.\n",
    "\n",
    "The new search area looked at all known 'hangs' in a ~700 square nautical mile area and reviewed them for likely candidates."
   ]
  },
  {
   "cell_type": "code",
   "execution_count": 47,
   "metadata": {},
   "outputs": [
    {
     "name": "stdout",
     "output_type": "stream",
     "text": [
      "metre\n"
     ]
    }
   ],
   "source": [
    "# Initial estimate of the coordinates of where the collision happened\n",
    "b_lat_1 = 40.094\n",
    "b_lon_1 = -70.986\n",
    "coord_1 = shapely.geometry.Point(b_lon_1, b_lat_1)\n",
    "\n",
    "b_lat_2 = 40.184\n",
    "b_lon_2 = -70.838\n",
    "coord_2 = shapely.geometry.Point(b_lon_2, b_lat_2)\n",
    "\n",
    "# Combine into a linestring oject\n",
    "coords_ls = gpd.GeoSeries(shapely.geometry.LineString([coord_1, coord_2]),\n",
    "                          crs='EPSG:4326')\n",
    "\n",
    "# Convert CRS into projected coordinates to calculate distances in meters\n",
    "coords_ls = coords_ls.to_crs('epsg:3857')\n",
    "\n",
    "# Check the CRS unit of measurement\n",
    "print(coords_ls.crs.axis_info[0].unit_name)"
   ]
  },
  {
   "cell_type": "code",
   "execution_count": 48,
   "metadata": {},
   "outputs": [
    {
     "name": "stdout",
     "output_type": "stream",
     "text": [
      "Distance between coordinates in meters: 21,052\n",
      "Distance between coordinates in nautical miles: 11.4\n"
     ]
    }
   ],
   "source": [
    "# Calculate the distance between the two coordinates\n",
    "dist_bn_coords = coords_ls.length\n",
    "\n",
    "print('Distance between coordinates in meters: {0:,.0f}'.format(dist_bn_coords[0]))\n",
    "print('Distance between coordinates in nautical miles: {0:.1f}'.format(m_to_nm(dist_bn_coords[0])))"
   ]
  },
  {
   "cell_type": "code",
   "execution_count": 49,
   "metadata": {},
   "outputs": [
    {
     "data": {
      "text/plain": [
       "0    POLYGON ((-7866242.731 4886164.158, -7866375.8...\n",
       "dtype: geometry"
      ]
     },
     "execution_count": 49,
     "metadata": {},
     "output_type": "execute_result"
    }
   ],
   "source": [
    "# Calculate the centroid between the two points\n",
    "centroid = coords_ls.centroid\n",
    "\n",
    "# Create a buffer around the centroid of ~700 squared nautical miles\n",
    "buff = centroid.buffer(27645)\n",
    "buff"
   ]
  },
  {
   "cell_type": "code",
   "execution_count": 68,
   "metadata": {},
   "outputs": [
    {
     "data": {
      "text/html": [
       "\n",
       "        <iframe\n",
       "            width=\"100%\"\n",
       "            height=\"500px\"\n",
       "            src=\"m_2.html\"\n",
       "            frameborder=\"0\"\n",
       "            allowfullscreen\n",
       "            \n",
       "        ></iframe>\n",
       "        "
      ],
      "text/plain": [
       "<IPython.lib.display.IFrame at 0x182c17a30>"
      ]
     },
     "execution_count": 68,
     "metadata": {},
     "output_type": "execute_result"
    }
   ],
   "source": [
    "# Create basemap\n",
    "centroid_lon = centroid.to_crs('epsg:4326')[0].x\n",
    "centroid_lat = centroid.to_crs('epsg:4326')[0].y\n",
    "\n",
    "m_2 = make_map(layers=layers_all, \n",
    "               location=[centroid_lat, centroid_lon],\n",
    "               zoom_start=9)\n",
    "\n",
    "# Plot the 700nm^2 buffer around the centroid between the coordinates\n",
    "folium.GeoJson(buff.to_crs('epsg:4326').to_json(), name=\"Search Area\").add_to(m_2)\n",
    "\n",
    "# Plot the approximate coordinates for the Biela, color green\n",
    "folium.Circle([b_lat_1, b_lon_1], radius=10, color='#cfff04').add_to(m_2)\n",
    "folium.Circle([b_lat_2, b_lon_2], radius=10, color='#cfff04').add_to(m_2)\n",
    "\n",
    "# Add LayerControl to toggle layers on/off \n",
    "folium.LayerControl(collapsed=False).add_to(m_2)\n",
    "\n",
    "# Display map\n",
    "display_map(m_2, 'm_2.html')"
   ]
  },
  {
   "cell_type": "markdown",
   "metadata": {},
   "source": [
    "### Find All un-Identified Hangs that are Within the Search Area"
   ]
  },
  {
   "cell_type": "code",
   "execution_count": 51,
   "metadata": {},
   "outputs": [
    {
     "name": "stdout",
     "output_type": "stream",
     "text": [
      "(4625, 3)\n"
     ]
    },
    {
     "data": {
      "text/html": [
       "<div>\n",
       "<style scoped>\n",
       "    .dataframe tbody tr th:only-of-type {\n",
       "        vertical-align: middle;\n",
       "    }\n",
       "\n",
       "    .dataframe tbody tr th {\n",
       "        vertical-align: top;\n",
       "    }\n",
       "\n",
       "    .dataframe thead th {\n",
       "        text-align: right;\n",
       "    }\n",
       "</style>\n",
       "<table border=\"1\" class=\"dataframe\">\n",
       "  <thead>\n",
       "    <tr style=\"text-align: right;\">\n",
       "      <th></th>\n",
       "      <th>IDX</th>\n",
       "      <th>OBJTYPE</th>\n",
       "      <th>geometry</th>\n",
       "    </tr>\n",
       "  </thead>\n",
       "  <tbody>\n",
       "    <tr>\n",
       "      <th>0</th>\n",
       "      <td>AWW_1</td>\n",
       "      <td>WRECK</td>\n",
       "      <td>POINT (-8242954.142 4948699.211)</td>\n",
       "    </tr>\n",
       "    <tr>\n",
       "      <th>1</th>\n",
       "      <td>AWW_2</td>\n",
       "      <td>UNKNOWN</td>\n",
       "      <td>POINT (-8330609.567 4699632.337)</td>\n",
       "    </tr>\n",
       "    <tr>\n",
       "      <th>2</th>\n",
       "      <td>AWW_3</td>\n",
       "      <td>UNKNOWN</td>\n",
       "      <td>POINT (-8135256.194 4956207.612)</td>\n",
       "    </tr>\n",
       "    <tr>\n",
       "      <th>3</th>\n",
       "      <td>AWW_4</td>\n",
       "      <td>UNKNOWN</td>\n",
       "      <td>POINT (-8332843.241 4711499.019)</td>\n",
       "    </tr>\n",
       "    <tr>\n",
       "      <th>4</th>\n",
       "      <td>AWW_5</td>\n",
       "      <td>UNKNOWN</td>\n",
       "      <td>POINT (-8328269.471 4707827.719)</td>\n",
       "    </tr>\n",
       "  </tbody>\n",
       "</table>\n",
       "</div>"
      ],
      "text/plain": [
       "     IDX  OBJTYPE                          geometry\n",
       "0  AWW_1    WRECK  POINT (-8242954.142 4948699.211)\n",
       "1  AWW_2  UNKNOWN  POINT (-8330609.567 4699632.337)\n",
       "2  AWW_3  UNKNOWN  POINT (-8135256.194 4956207.612)\n",
       "3  AWW_4  UNKNOWN  POINT (-8332843.241 4711499.019)\n",
       "4  AWW_5  UNKNOWN  POINT (-8328269.471 4707827.719)"
      ]
     },
     "execution_count": 51,
     "metadata": {},
     "output_type": "execute_result"
    }
   ],
   "source": [
    "# Combine all unknown items into one GeoDataFrame\n",
    "all_unknown = unknown.append(simu_obs, ignore_index=True)\n",
    "\n",
    "# Convert to projected CRS\n",
    "all_unknown.to_crs('EPSG:3857', inplace=True)\n",
    "\n",
    "print(all_unknown.shape)\n",
    "all_unknown.head()"
   ]
  },
  {
   "cell_type": "code",
   "execution_count": 52,
   "metadata": {},
   "outputs": [
    {
     "data": {
      "text/plain": [
       "57"
      ]
     },
     "execution_count": 52,
     "metadata": {},
     "output_type": "execute_result"
    }
   ],
   "source": [
    "s_idx = all_unknown['geometry'].within(buff.loc[0])\n",
    "sum(s_idx)"
   ]
  },
  {
   "cell_type": "code",
   "execution_count": 53,
   "metadata": {},
   "outputs": [
    {
     "name": "stdout",
     "output_type": "stream",
     "text": [
      "(57, 3)\n"
     ]
    },
    {
     "data": {
      "text/html": [
       "<div>\n",
       "<style scoped>\n",
       "    .dataframe tbody tr th:only-of-type {\n",
       "        vertical-align: middle;\n",
       "    }\n",
       "\n",
       "    .dataframe tbody tr th {\n",
       "        vertical-align: top;\n",
       "    }\n",
       "\n",
       "    .dataframe thead th {\n",
       "        text-align: right;\n",
       "    }\n",
       "</style>\n",
       "<table border=\"1\" class=\"dataframe\">\n",
       "  <thead>\n",
       "    <tr style=\"text-align: right;\">\n",
       "      <th></th>\n",
       "      <th>IDX</th>\n",
       "      <th>OBJTYPE</th>\n",
       "      <th>geometry</th>\n",
       "    </tr>\n",
       "  </thead>\n",
       "  <tbody>\n",
       "    <tr>\n",
       "      <th>4066</th>\n",
       "      <td>ENC_1932</td>\n",
       "      <td>WRECK</td>\n",
       "      <td>POINT (-7870134.768 4895310.027)</td>\n",
       "    </tr>\n",
       "    <tr>\n",
       "      <th>4087</th>\n",
       "      <td>ENC_1953</td>\n",
       "      <td>WRECK</td>\n",
       "      <td>POINT (-7903718.188 4881611.603)</td>\n",
       "    </tr>\n",
       "    <tr>\n",
       "      <th>4088</th>\n",
       "      <td>ENC_1954</td>\n",
       "      <td>WRECK</td>\n",
       "      <td>POINT (-7887047.983 4868362.645)</td>\n",
       "    </tr>\n",
       "    <tr>\n",
       "      <th>4133</th>\n",
       "      <td>SIM_10</td>\n",
       "      <td>UNKNOWN</td>\n",
       "      <td>POINT (-7894407.222 4887763.873)</td>\n",
       "    </tr>\n",
       "    <tr>\n",
       "      <th>4226</th>\n",
       "      <td>SIM_103</td>\n",
       "      <td>UNKNOWN</td>\n",
       "      <td>POINT (-7912885.662 4884262.007)</td>\n",
       "    </tr>\n",
       "  </tbody>\n",
       "</table>\n",
       "</div>"
      ],
      "text/plain": [
       "           IDX  OBJTYPE                          geometry\n",
       "4066  ENC_1932    WRECK  POINT (-7870134.768 4895310.027)\n",
       "4087  ENC_1953    WRECK  POINT (-7903718.188 4881611.603)\n",
       "4088  ENC_1954    WRECK  POINT (-7887047.983 4868362.645)\n",
       "4133    SIM_10  UNKNOWN  POINT (-7894407.222 4887763.873)\n",
       "4226   SIM_103  UNKNOWN  POINT (-7912885.662 4884262.007)"
      ]
     },
     "execution_count": 53,
     "metadata": {},
     "output_type": "execute_result"
    }
   ],
   "source": [
    "# Calculate and filter for points within the search area buffer\n",
    "# gdf_within = gdfdata.loc[gdfdata.geometry.within(gdfselbuff.unary_union)]\n",
    "search_points = all_unknown.loc[s_idx]\n",
    "\n",
    "print(search_points.shape)\n",
    "search_points.head()"
   ]
  },
  {
   "cell_type": "code",
   "execution_count": 54,
   "metadata": {},
   "outputs": [
    {
     "data": {
      "text/html": [
       "<div>\n",
       "<style scoped>\n",
       "    .dataframe tbody tr th:only-of-type {\n",
       "        vertical-align: middle;\n",
       "    }\n",
       "\n",
       "    .dataframe tbody tr th {\n",
       "        vertical-align: top;\n",
       "    }\n",
       "\n",
       "    .dataframe thead th {\n",
       "        text-align: right;\n",
       "    }\n",
       "</style>\n",
       "<table border=\"1\" class=\"dataframe\">\n",
       "  <thead>\n",
       "    <tr style=\"text-align: right;\">\n",
       "      <th></th>\n",
       "      <th>IDX</th>\n",
       "      <th>OBJTYPE</th>\n",
       "      <th>geometry</th>\n",
       "    </tr>\n",
       "  </thead>\n",
       "  <tbody>\n",
       "    <tr>\n",
       "      <th>4087</th>\n",
       "      <td>ENC_1953</td>\n",
       "      <td>WRECK</td>\n",
       "      <td>POINT (-7903718.188 4881611.603)</td>\n",
       "    </tr>\n",
       "    <tr>\n",
       "      <th>4133</th>\n",
       "      <td>SIM_10</td>\n",
       "      <td>UNKNOWN</td>\n",
       "      <td>POINT (-7894407.222 4887763.873)</td>\n",
       "    </tr>\n",
       "    <tr>\n",
       "      <th>4321</th>\n",
       "      <td>SIM_198</td>\n",
       "      <td>UNKNOWN</td>\n",
       "      <td>POINT (-7898830.594 4885972.363)</td>\n",
       "    </tr>\n",
       "    <tr>\n",
       "      <th>4451</th>\n",
       "      <td>SIM_328</td>\n",
       "      <td>UNKNOWN</td>\n",
       "      <td>POINT (-7891147.888 4874346.281)</td>\n",
       "    </tr>\n",
       "    <tr>\n",
       "      <th>4482</th>\n",
       "      <td>SIM_359</td>\n",
       "      <td>UNKNOWN</td>\n",
       "      <td>POINT (-7889049.191 4885323.310)</td>\n",
       "    </tr>\n",
       "  </tbody>\n",
       "</table>\n",
       "</div>"
      ],
      "text/plain": [
       "           IDX  OBJTYPE                          geometry\n",
       "4087  ENC_1953    WRECK  POINT (-7903718.188 4881611.603)\n",
       "4133    SIM_10  UNKNOWN  POINT (-7894407.222 4887763.873)\n",
       "4321   SIM_198  UNKNOWN  POINT (-7898830.594 4885972.363)\n",
       "4451   SIM_328  UNKNOWN  POINT (-7891147.888 4874346.281)\n",
       "4482   SIM_359  UNKNOWN  POINT (-7889049.191 4885323.310)"
      ]
     },
     "execution_count": 54,
     "metadata": {},
     "output_type": "execute_result"
    }
   ],
   "source": [
    "# Narrow down search to top 5\n",
    "top_5 = search_points.loc[(4087, 4133, 4321, 4451, 4482), :]\n",
    "top_5"
   ]
  },
  {
   "cell_type": "code",
   "execution_count": 55,
   "metadata": {},
   "outputs": [
    {
     "name": "stdout",
     "output_type": "stream",
     "text": [
      "Original search area in square meters:  2,397,094,716\n",
      "New search area in square meters: 109,726,705\n"
     ]
    }
   ],
   "source": [
    "# Combine points into one geometry to find convex hull\n",
    "union = top_5['geometry'].unary_union\n",
    "\n",
    "# Create convex hull and calculate new search area\n",
    "cvxhull = gpd.GeoSeries(union.convex_hull, crs='EPSG:3857')\n",
    "\n",
    "print('Original search area in square meters: {0: ,.0f}'.format(buff[0].area))\n",
    "print('New search area in square meters: {0:,.0f}'.format(cvxhull[0].area))"
   ]
  },
  {
   "cell_type": "code",
   "execution_count": 71,
   "metadata": {
    "scrolled": false
   },
   "outputs": [
    {
     "data": {
      "text/html": [
       "\n",
       "        <iframe\n",
       "            width=\"100%\"\n",
       "            height=\"500px\"\n",
       "            src=\"m_3.html\"\n",
       "            frameborder=\"0\"\n",
       "            allowfullscreen\n",
       "            \n",
       "        ></iframe>\n",
       "        "
      ],
      "text/plain": [
       "<IPython.lib.display.IFrame at 0x17fbdba90>"
      ]
     },
     "execution_count": 71,
     "metadata": {},
     "output_type": "execute_result"
    }
   ],
   "source": [
    "# Map the top points and reduced search area\n",
    "top_layer = create_featuregroup(top_5.to_crs('EPSG:4326'), 'Top Points')\n",
    "\n",
    "# Create basemap\n",
    "m_3 = make_map(layers=[top_layer],\n",
    "               location=[centroid_lat, centroid_lon],\n",
    "               zoom_start=11)\n",
    "\n",
    "# Plot the reduced search area\n",
    "folium.GeoJson(cvxhull.to_crs('epsg:4326').to_json(), name=\"Search Area\").add_to(m_3)\n",
    "\n",
    "# Plot the approximate coordinates for the Biela, color green\n",
    "folium.Circle([b_lat_1, b_lon_1], radius=10, color='#cfff04').add_to(m_3)\n",
    "folium.Circle([b_lat_2, b_lon_2], radius=10, color='#cfff04').add_to(m_3)\n",
    "\n",
    "# Add a popup to show lat, lon where user clicks\n",
    "folium.features.LatLngPopup().add_to(m_3)\n",
    "\n",
    "# Add LayerControl to toggle layers on/off \n",
    "folium.LayerControl(collapsed=False).add_to(m_3)\n",
    "\n",
    "# Display map\n",
    "display_map(m_3, 'm_3.html')"
   ]
  },
  {
   "cell_type": "markdown",
   "metadata": {},
   "source": [
    "## Wreckhunting Success!"
   ]
  },
  {
   "cell_type": "code",
   "execution_count": 73,
   "metadata": {},
   "outputs": [
    {
     "data": {
      "text/html": [
       "\n",
       "        <iframe\n",
       "            width=\"100%\"\n",
       "            height=\"500px\"\n",
       "            src=\"m_final.html\"\n",
       "            frameborder=\"0\"\n",
       "            allowfullscreen\n",
       "            \n",
       "        ></iframe>\n",
       "        "
      ],
      "text/plain": [
       "<IPython.lib.display.IFrame at 0x1831141c0>"
      ]
     },
     "execution_count": 73,
     "metadata": {},
     "output_type": "execute_result"
    }
   ],
   "source": [
    "# Get actual coordinates for where wreck was found\n",
    "b_lat = biela['geometry'].y[0]\n",
    "b_lon = biela['geometry'].x[0]\n",
    "\n",
    "# Create basemap\n",
    "m_final = make_map(layers=layers_all,\n",
    "                   location=[centroid_lat, centroid_lon],\n",
    "                   zoom_start=10)\n",
    "\n",
    "# Plot the reduced search area\n",
    "folium.GeoJson(cvxhull.to_crs('epsg:4326').to_json(), name=\"Search Area\").add_to(m_final)\n",
    "\n",
    "# Plot the approximate coordinates for the Biela, color \n",
    "folium.Circle([b_lat_1, b_lon_1], radius=10, color='#cfff04').add_to(m_final)\n",
    "folium.Circle([b_lat_2, b_lon_2], radius=10, color='#cfff04').add_to(m_final)\n",
    "\n",
    "# Create and plot a marker for the Biela\n",
    "folium.Marker([b_lat, b_lon],\n",
    "              popup='<b>BIELA</b><br/>Lat: {0:.2f}<br/>Lon: {1:.2f}'.format(b_lat, b_lon),\n",
    "              icon=folium.map.Icon(icon='ship',\n",
    "                                   prefix='fa')).add_to(m_final)\n",
    "\n",
    "# Add LayerControl to toggle layers on/off \n",
    "folium.LayerControl(collapsed=False).add_to(m_final)\n",
    "\n",
    "# Display map\n",
    "display_map(m_final, 'm_final.html')"
   ]
  },
  {
   "cell_type": "code",
   "execution_count": 58,
   "metadata": {},
   "outputs": [
    {
     "name": "stdout",
     "output_type": "stream",
     "text": [
      "Distance in meters: 173,567\n",
      "Distance in nautical miles: 93.7\n"
     ]
    }
   ],
   "source": [
    "# Calculate the distance to Montauk, NY (source: Google maps)\n",
    "montauk_coords = gpd.GeoSeries(shapely.geometry.Point(-71.94990647252806,\n",
    "                                                      41.03664232633056), \n",
    "                               crs='EPSG:4326')\n",
    "\n",
    "# Convert to projected coordinates to calculate distances accurately\n",
    "montauk_coords = montauk_coords.to_crs('epsg:3857')\n",
    "\n",
    "dist_to_wreck = montauk_coords.distance(biela['geometry'].to_crs('EPSG:3857'))\n",
    "print('Distance in meters: {0:,.0f}'.format(dist_to_wreck[0]))\n",
    "print('Distance in nautical miles: {0:.1f}'.format(m_to_nm(dist_to_wreck[0])))"
   ]
  }
 ],
 "metadata": {
  "kernelspec": {
   "display_name": "Python 3 (ipykernel)",
   "language": "python",
   "name": "python3"
  },
  "language_info": {
   "codemirror_mode": {
    "name": "ipython",
    "version": 3
   },
   "file_extension": ".py",
   "mimetype": "text/x-python",
   "name": "python",
   "nbconvert_exporter": "python",
   "pygments_lexer": "ipython3",
   "version": "3.8.6"
  }
 },
 "nbformat": 4,
 "nbformat_minor": 4
}
